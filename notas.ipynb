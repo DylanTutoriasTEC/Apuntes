{
 "cells": [
  {
   "cell_type": "markdown",
   "metadata": {},
   "source": [
    "> # Introdución a la programación"
   ]
  },
  {
   "cell_type": "markdown",
   "metadata": {},
   "source": [
    "## Operadores básicos \n"
   ]
  },
  {
   "cell_type": "markdown",
   "metadata": {},
   "source": [
    "\n",
    "(+) Realiza adición entre los operandos\n"
   ]
  },
  {
   "cell_type": "code",
   "execution_count": 1,
   "metadata": {},
   "outputs": [
    {
     "data": {
      "text/plain": [
       "5"
      ]
     },
     "execution_count": 1,
     "metadata": {},
     "output_type": "execute_result"
    }
   ],
   "source": [
    "def suma(num1, num2):\n",
    "    return num1 + num2\n",
    "\n",
    "suma(2,3)"
   ]
  },
  {
   "cell_type": "markdown",
   "metadata": {},
   "source": [
    "(-) Realiza substracción entre los operandos"
   ]
  },
  {
   "cell_type": "code",
   "execution_count": 25,
   "metadata": {},
   "outputs": [
    {
     "data": {
      "text/plain": [
       "-1"
      ]
     },
     "execution_count": 25,
     "metadata": {},
     "output_type": "execute_result"
    }
   ],
   "source": [
    "def resta(num1, num2):\n",
    "    return num1 - num2\n",
    "\n",
    "resta(2,3)"
   ]
  },
  {
   "cell_type": "markdown",
   "metadata": {},
   "source": [
    "(*) Realiza multiplicación entre los operandos\n"
   ]
  },
  {
   "cell_type": "code",
   "execution_count": 26,
   "metadata": {},
   "outputs": [
    {
     "data": {
      "text/plain": [
       "6"
      ]
     },
     "execution_count": 26,
     "metadata": {},
     "output_type": "execute_result"
    }
   ],
   "source": [
    "def multiplicacion(num1, num2):\n",
    "    return num1 * num2\n",
    "\n",
    "multiplicacion(2,3)"
   ]
  },
  {
   "cell_type": "markdown",
   "metadata": {},
   "source": [
    "(/) Realiza división entre los operandos\n"
   ]
  },
  {
   "cell_type": "code",
   "execution_count": 27,
   "metadata": {},
   "outputs": [
    {
     "data": {
      "text/plain": [
       "2.3333333333333335"
      ]
     },
     "execution_count": 27,
     "metadata": {},
     "output_type": "execute_result"
    }
   ],
   "source": [
    "def divisionRecidual(num1, num2):\n",
    "    return num1 / num2\n",
    "\n",
    "divisionRecidual(7,3)"
   ]
  },
  {
   "cell_type": "markdown",
   "metadata": {},
   "source": [
    "(%) Realiza un módulo entre los operandos\n"
   ]
  },
  {
   "cell_type": "code",
   "execution_count": 11,
   "metadata": {},
   "outputs": [
    {
     "data": {
      "text/plain": [
       "3"
      ]
     },
     "execution_count": 11,
     "metadata": {},
     "output_type": "execute_result"
    }
   ],
   "source": [
    "def modulo(num1, num2):\n",
    "    return num1 % num2\n",
    "\n",
    "modulo(1123,10)"
   ]
  },
  {
   "cell_type": "markdown",
   "metadata": {},
   "source": [
    "(**) Realiza la potencia de los operandos\n"
   ]
  },
  {
   "cell_type": "code",
   "execution_count": 12,
   "metadata": {},
   "outputs": [
    {
     "data": {
      "text/plain": [
       "8"
      ]
     },
     "execution_count": 12,
     "metadata": {},
     "output_type": "execute_result"
    }
   ],
   "source": [
    "def potencia(num1, num2):\n",
    "    return num1 ** num2\n",
    "\n",
    "potencia(2,3)"
   ]
  },
  {
   "cell_type": "markdown",
   "metadata": {},
   "source": [
    "\n",
    "(//) Realiza la división con resultado de número entero"
   ]
  },
  {
   "cell_type": "code",
   "execution_count": 25,
   "metadata": {},
   "outputs": [
    {
     "data": {
      "text/plain": [
       "71"
      ]
     },
     "execution_count": 25,
     "metadata": {},
     "output_type": "execute_result"
    }
   ],
   "source": [
    "def divisionEntera(num1, num2):\n",
    "    return num1 // num2\n",
    "\n",
    "divisionEntera(712,10)"
   ]
  },
  {
   "cell_type": "markdown",
   "metadata": {},
   "source": [
    "## Operadores de control de flujo"
   ]
  },
  {
   "cell_type": "markdown",
   "metadata": {},
   "source": [
    "Los operadores **if**, **else** y **elif** son sentencias condicionales que permiten que un programa ejecute código si se cumplen las condiciones."
   ]
  },
  {
   "cell_type": "code",
   "execution_count": null,
   "metadata": {},
   "outputs": [],
   "source": [
    "edad = 20\n",
    "\n",
    "# Comprobamos en qué rango de edad se encuentra una persona\n",
    "if (edad < 18):\n",
    "    print(\"Es menor de edad.\")\n",
    "\n",
    "elif edad >= 18 and edad < 65:\n",
    "    print(\"Es adulto.\")\n",
    "    \n",
    "else:\n",
    "    print(\"Eres adulto mayor.\")"
   ]
  },
  {
   "cell_type": "markdown",
   "metadata": {},
   "source": [
    "## Bucle While"
   ]
  },
  {
   "cell_type": "markdown",
   "metadata": {},
   "source": [
    "El bucle **while** se utiliza para ejecutar un bloque de código mientras una condición específica sea verdadera."
   ]
  },
  {
   "cell_type": "code",
   "execution_count": 19,
   "metadata": {},
   "outputs": [
    {
     "name": "stdout",
     "output_type": "stream",
     "text": [
      "El contador es: 0\n",
      "El contador es: 1\n",
      "El contador es: 2\n",
      "El contador es: 3\n",
      "El contador es: 4\n",
      "Bucle terminado\n"
     ]
    }
   ],
   "source": [
    "contador = 0\n",
    "\n",
    "# Ejecutamos un bucle while mientras el contador sea menor que 5\n",
    "while contador < 5:\n",
    "    print(\"El contador es:\", contador)\n",
    "    contador += 1  # Incrementamos el contador en 1 en cada iteración\n",
    "\n",
    "print(\"Bucle terminado\")"
   ]
  },
  {
   "cell_type": "markdown",
   "metadata": {},
   "source": [
    "## Ejercicios Prácticos"
   ]
  },
  {
   "cell_type": "markdown",
   "metadata": {},
   "source": [
    ">Nombre: contarDigitos \n",
    ">\n",
    ">Descripción: Contar la cantidad de digitos de un número entero\n",
    ">\n",
    ">Entradas: num\n",
    ">\n",
    ">Salida: La cantidad de digitos de un número \n",
    ">\n",
    ">Restricciones:\n",
    ">\n",
    ">          - num debe ser entero"
   ]
  },
  {
   "cell_type": "code",
   "execution_count": 12,
   "metadata": {},
   "outputs": [],
   "source": [
    "def contarDigitos(num):\n",
    "    contador = 0\n",
    "    \n",
    "    if (num%1) != 0:\n",
    "        return \"Error: num debe ser entero\"\n",
    "    \n",
    "    while (num > 0):\n",
    "        num //= 10       \n",
    "        contador += 1\n",
    "    return contador"
   ]
  },
  {
   "cell_type": "markdown",
   "metadata": {},
   "source": [
    ">Nombre: contarParesImpares\n",
    ">\n",
    ">Descripción: Contar la cantidad de digitos pares e impares de un número entero\n",
    ">\n",
    ">Entradas: num\n",
    ">\n",
    ">Salida: Una lista con la cantidad de digitos pares e impares. [pares, impares]\n",
    ">\n",
    ">Restricciones:\n",
    ">\n",
    ">          - num debe ser entero"
   ]
  },
  {
   "cell_type": "code",
   "execution_count": 3,
   "metadata": {},
   "outputs": [
    {
     "data": {
      "text/plain": [
       "[1, 2]"
      ]
     },
     "execution_count": 3,
     "metadata": {},
     "output_type": "execute_result"
    }
   ],
   "source": [
    "def contarParesImpares(num):\n",
    "    if (num % 1)!= 0 :\n",
    "        return \"El número debe ser entero\"\n",
    "\n",
    "    contadorPar = 0\n",
    "    contadorImpar = 0\n",
    "\n",
    "    digito = 0\n",
    "    while (num > 0):\n",
    "        digito = num % 10\n",
    "        if (digito % 2) == 0:\n",
    "            contadorPar += 1\n",
    "        else:\n",
    "            contadorImpar +=1\n",
    "        num //= 10\n",
    "\n",
    "    return [contadorPar, contadorImpar]\n",
    "\n",
    "contarParesImpares(123)            "
   ]
  },
  {
   "cell_type": "markdown",
   "metadata": {},
   "source": [
    ">Nombre: sumatoria \n",
    ">\n",
    ">Descripción: Hacer la sumatoria de un número dado\n",
    ">\n",
    ">Entradas: num\n",
    ">\n",
    ">Salida: La sumatoria de num\n",
    ">\n",
    ">Restricciones:\n",
    ">\n",
    ">          - num debe ser entero"
   ]
  },
  {
   "cell_type": "code",
   "execution_count": 35,
   "metadata": {},
   "outputs": [
    {
     "data": {
      "text/plain": [
       "6"
      ]
     },
     "execution_count": 35,
     "metadata": {},
     "output_type": "execute_result"
    }
   ],
   "source": [
    "def sumatoriaDes(num):\n",
    "    if (num % 1)!= 0 :\n",
    "        return \"El número debe ser entero\"\n",
    "        \n",
    "    resultado = 0\n",
    "    while (num > 0):\n",
    "        num -= 1\n",
    "        resultado += num\n",
    "    return resultado\n",
    "\n",
    "sumatoriaDes(4)"
   ]
  },
  {
   "cell_type": "code",
   "execution_count": 32,
   "metadata": {},
   "outputs": [
    {
     "name": "stdout",
     "output_type": "stream",
     "text": [
      "0\n",
      "1\n"
     ]
    },
    {
     "data": {
      "text/plain": [
       "3"
      ]
     },
     "execution_count": 32,
     "metadata": {},
     "output_type": "execute_result"
    }
   ],
   "source": [
    "def sumatoriaAscendente(num):\n",
    "    if (num % 1)!= 0 :\n",
    "        return \"El número debe ser entero\"\n",
    "       \n",
    "    resultado = 0\n",
    "    contador = 0\n",
    "\n",
    "    while resultado + (contador + 1) <= num: \n",
    "        contador += 1\n",
    "        resultado += contador\n",
    "\n",
    "    return resultado\n",
    "\n",
    "sumatoriaAscendente(3)"
   ]
  },
  {
   "cell_type": "markdown",
   "metadata": {},
   "source": [
    ">Nombre: factorial \n",
    ">\n",
    ">Descripción: Hacer la factoral de un número dado\n",
    ">\n",
    ">Entradas: num\n",
    ">\n",
    ">Salida: La factorial de num\n",
    ">\n",
    ">Restricciones:\n",
    ">\n",
    ">          - num debe ser entero"
   ]
  },
  {
   "cell_type": "code",
   "execution_count": 5,
   "metadata": {},
   "outputs": [
    {
     "data": {
      "text/plain": [
       "120"
      ]
     },
     "execution_count": 5,
     "metadata": {},
     "output_type": "execute_result"
    }
   ],
   "source": [
    "def factorial(num):\n",
    "    if (num % 1)!= 0 :\n",
    "        return \"El número debe ser entero\"\n",
    "        \n",
    "    resultado = 1\n",
    "    while (num > 0):\n",
    "        resultado *= num\n",
    "        num -= 1\n",
    "    return resultado\n",
    "\n",
    "factorial(5)"
   ]
  },
  {
   "cell_type": "markdown",
   "metadata": {},
   "source": [
    ">Nombre: adyacentesImpares\n",
    ">\n",
    ">Entrada: num\n",
    ">\n",
    ">Salida: retornar True si la suma de dos digitos adyacentes sean impares, o\n",
    ">        False en caso de que alguna no lo sea\n",
    ">\n",
    ">Restricciones:\n",
    ">\n",
    ">              ° num debe ser entero positivo"
   ]
  },
  {
   "cell_type": "code",
   "execution_count": 4,
   "metadata": {},
   "outputs": [
    {
     "name": "stdout",
     "output_type": "stream",
     "text": [
      "[4, 5]\n",
      "True\n",
      "[3, 4]\n",
      "True\n",
      "[1, 3]\n",
      "False\n",
      "[1, 1]\n",
      "False\n",
      "[3, 1]\n",
      "False\n",
      "[2, 3]\n",
      "True\n",
      "[1, 2]\n",
      "True\n",
      "[0, 1]\n",
      "True\n"
     ]
    }
   ],
   "source": [
    "def adyacentesImpares(num):\n",
    "    if not isinstance(num,int) or num < 0:\n",
    "        return \"Error: num debe ser entero positivo\"\n",
    "    \n",
    "    digitoDerecha = num % 10\n",
    "    while num > 0:\n",
    "        num //= 10\n",
    "        digitoIzqierda = num % 10\n",
    "        if (digitoDerecha + digitoIzqierda) % 2 == 0:\n",
    "            print([digitoIzqierda, digitoDerecha])\n",
    "            print(False)\n",
    "        else:\n",
    "            print([digitoIzqierda, digitoDerecha])\n",
    "            print(True) \n",
    "        digitoDerecha = digitoIzqierda\n",
    "\n",
    "\n",
    "adyacentesImpares(12311345)"
   ]
  },
  {
   "cell_type": "markdown",
   "metadata": {},
   "source": [
    "## Listas"
   ]
  },
  {
   "cell_type": "markdown",
   "metadata": {},
   "source": [
    "\n",
    "En Python, una lista es una estructura de datos que permite almacenar una colección ordenada de elementos. Las listas son muy versátiles y flexibles, ya que pueden contener elementos de diferentes tipos (como enteros, flotantes, cadenas, incluso otras listas y objetos más complejos)."
   ]
  },
  {
   "cell_type": "markdown",
   "metadata": {},
   "source": [
    "## Bucle For"
   ]
  },
  {
   "cell_type": "markdown",
   "metadata": {},
   "source": [
    "En Python es una estructura que te permite iterar sobre una secuencia de elementos, como una lista, una tupla, un rango, u otro objeto iterable. La sintaxis básica de un bucle for en Python es la siguiente:"
   ]
  },
  {
   "cell_type": "code",
   "execution_count": 2,
   "metadata": {},
   "outputs": [
    {
     "name": "stdout",
     "output_type": "stream",
     "text": [
      "1\n",
      "2.34\n",
      "hola\n",
      "True\n"
     ]
    }
   ],
   "source": [
    "iterable = [1, 2.34, 'hola', True]\n",
    "for elem in iterable:\n",
    "        print(elem)"
   ]
  },
  {
   "cell_type": "markdown",
   "metadata": {},
   "source": [
    "### Ejemplos básicos"
   ]
  },
  {
   "cell_type": "code",
   "execution_count": 9,
   "metadata": {},
   "outputs": [
    {
     "name": "stdout",
     "output_type": "stream",
     "text": [
      "manzana\n",
      "banana\n",
      "naranja\n"
     ]
    }
   ],
   "source": [
    "## Iterar una lista\n",
    "\n",
    "frutas = [\"manzana\", \"banana\", \"naranja\"]\n",
    "for fruta in frutas:\n",
    "    print(fruta)"
   ]
  },
  {
   "cell_type": "code",
   "execution_count": 10,
   "metadata": {},
   "outputs": [
    {
     "name": "stdout",
     "output_type": "stream",
     "text": [
      "H\n",
      "o\n",
      "l\n",
      "a\n",
      " \n",
      "m\n",
      "u\n",
      "n\n",
      "d\n",
      "o\n"
     ]
    }
   ],
   "source": [
    "## Iterar un string\n",
    "\n",
    "mensaje = \"Hola mundo\"\n",
    "for letra in mensaje:\n",
    "    print(letra)"
   ]
  },
  {
   "cell_type": "code",
   "execution_count": 12,
   "metadata": {},
   "outputs": [
    {
     "data": {
      "text/plain": [
       "True"
      ]
     },
     "execution_count": 12,
     "metadata": {},
     "output_type": "execute_result"
    }
   ],
   "source": [
    "# Iterar un rango\n",
    "\n",
    "for numero in range(5):\n",
    "    print(numero)"
   ]
  },
  {
   "cell_type": "markdown",
   "metadata": {},
   "source": [
    "## Ejercicios Prácticos"
   ]
  },
  {
   "cell_type": "markdown",
   "metadata": {},
   "source": [
    ">Nombre: encontrarCaracter\n",
    ">\n",
    ">Entrada: texto y caracter\n",
    ">\n",
    ">Salida: lbuscar la cantidad de veces que aparece el caracter dado en el texto, si no aparece, devolver su mensaje de error corrrespomdiente\n",
    ">\n",
    ">Restricciones:\n",
    ">              \n",
    ">              - texto y caracter deben ser string"
   ]
  },
  {
   "cell_type": "code",
   "execution_count": 15,
   "metadata": {},
   "outputs": [
    {
     "data": {
      "text/plain": [
       "'El caracter o aparece 2 veces en el texto'"
      ]
     },
     "execution_count": 15,
     "metadata": {},
     "output_type": "execute_result"
    }
   ],
   "source": [
    "def encontrarCaracter(texto,caracter):\n",
    "    contador = 0\n",
    "\n",
    "    for letra in texto:\n",
    "        if (letra == caracter):\n",
    "            contador += 1\n",
    "\n",
    "    if contador == 0:\n",
    "        return \"Error: Caracter no encontrado\"\n",
    "    \n",
    "    return f\"El caracter {caracter} aparece {contador} veces en el texto\"\n",
    "\n",
    "encontrarCaracter(\"Hola mundo\",\"o\")"
   ]
  },
  {
   "cell_type": "markdown",
   "metadata": {},
   "source": [
    ">Nombre: sumarElementos\n",
    ">\n",
    ">Entrada: lista\n",
    ">\n",
    ">Salida: la suma de los elementos de la lista\n",
    ">\n",
    ">Restricciones:\n",
    ">              \n",
    ">              - Los elementos de la lista deben ser numericos enteros"
   ]
  },
  {
   "cell_type": "code",
   "execution_count": 18,
   "metadata": {},
   "outputs": [
    {
     "data": {
      "text/plain": [
       "'Error: el parametro de entrada debe ser una lista'"
      ]
     },
     "execution_count": 18,
     "metadata": {},
     "output_type": "execute_result"
    }
   ],
   "source": [
    "def sumarElementos(lista):\n",
    "    if not isinstance(lista,list):\n",
    "        return \"Error: el parametro de entrada debe ser una lista\"\n",
    "    \n",
    "    resultado = 0\n",
    "    for elemento in lista:\n",
    "        if not isinstance(elemento, int):\n",
    "            return \"Error: la lista debe tener elementos numericos enteros\"\n",
    "\n",
    "        resultado += elemento\n",
    "\n",
    "    return resultado\n",
    "\n",
    "sumarElementos(12)"
   ]
  },
  {
   "cell_type": "markdown",
   "metadata": {},
   "source": [
    ">Nombre: cortarLista\n",
    ">\n",
    ">Entrada: lista e indice\n",
    ">\n",
    ">Salida: la lista cortada\n",
    ">\n",
    ">Restricciones:\n",
    ">              \n",
    ">              - la lista debe ser una lista, y el indice no debe exceder el largo de la lista"
   ]
  },
  {
   "cell_type": "code",
   "execution_count": 29,
   "metadata": {},
   "outputs": [],
   "source": [
    "def largoLista(lista):\n",
    "    if not isinstance(lista, list) or lista == []:\n",
    "        return \"Error: La entrada debe ser una lista no vacia\"\n",
    "    \n",
    "    contador = 0\n",
    "    for _ in lista:\n",
    "        contador += 1\n",
    "\n",
    "    return contador\n",
    "\n",
    "def cortarLista(lista, indice):\n",
    "    if not isinstance(lista,list):\n",
    "        return \"Error: la lista debe ser una lista\"\n",
    "    \n",
    "    if not isinstance(indice,int):\n",
    "        return \"Error: el indice debe ser numerico\"\n",
    "    \n",
    "    if indice > largoLista(lista) - 1:\n",
    "        return \"Error: indice excede el largo de la lista\"\n",
    "\n",
    "    contador = -1\n",
    "    resultado = []\n",
    "    for elemento in lista:\n",
    "        resultado += [elemento]\n",
    "        contador += 1\n",
    "\n",
    "        if indice == contador:\n",
    "            return resultado\n",
    "        \n",
    "    cortarLista([1,2,3,5,6],1)"
   ]
  },
  {
   "cell_type": "markdown",
   "metadata": {},
   "source": [
    ">Nombre: numeroAbundante\n",
    ">\n",
    ">Entrada: num\n",
    ">\n",
    ">Salida: la suma de los divisores de num debe ser mayor al doble de num\n",
    ">\n",
    ">Restricciones:\n",
    ">              \n",
    ">              - num debe ser entero positivo"
   ]
  },
  {
   "cell_type": "code",
   "execution_count": 30,
   "metadata": {},
   "outputs": [
    {
     "name": "stdout",
     "output_type": "stream",
     "text": [
      "1\n",
      "2\n",
      "3\n",
      "4\n",
      "6\n",
      "8\n",
      "12\n",
      "24\n"
     ]
    },
    {
     "data": {
      "text/plain": [
       "True"
      ]
     },
     "execution_count": 30,
     "metadata": {},
     "output_type": "execute_result"
    }
   ],
   "source": [
    "def numeroAbundante(num):\n",
    "    if not isinstance(num,int) or num < 0:\n",
    "        return \"Error: num debe ser entero positivo\"\n",
    "        \n",
    "    dobleNum = num*2\n",
    "    sumaDivisores = 0\n",
    "    for numero in range(1,num+1):\n",
    "        if (num % numero) == 0:\n",
    "            sumaDivisores += numero\n",
    "            print(numero)\n",
    "\n",
    "    if sumaDivisores >= num*2:\n",
    "        return True\n",
    "    else:\n",
    "        return False\n",
    "\n",
    "numeroAbundante(24)"
   ]
  },
  {
   "cell_type": "markdown",
   "metadata": {},
   "source": [
    ">Nombre: largoLista\n",
    ">\n",
    ">Entrada: lista\n",
    ">\n",
    ">Salida: el largo de una lista (la cantidad de elementos de la lista)\n",
    ">\n",
    ">Restricciones:\n",
    ">              \n",
    ">              - la entrada debe ser una lista, no importa su contenido."
   ]
  },
  {
   "cell_type": "code",
   "execution_count": 19,
   "metadata": {},
   "outputs": [
    {
     "data": {
      "text/plain": [
       "5"
      ]
     },
     "execution_count": 19,
     "metadata": {},
     "output_type": "execute_result"
    }
   ],
   "source": [
    "def largoLista(lista):\n",
    "    if not isinstance(lista, list) or lista == []:\n",
    "        return \"Error: La entrada debe ser una lista no vacia\"\n",
    "    \n",
    "    contador = 0\n",
    "    for _ in lista:\n",
    "        contador += 1\n",
    "\n",
    "    return contador\n",
    "\n",
    "largoLista([1, 2, 3.1, 4, \"12\"])"
   ]
  },
  {
   "cell_type": "markdown",
   "metadata": {},
   "source": [
    ">Nombre: eliminarElemento\n",
    ">\n",
    ">Entrada: lista y elemento\n",
    ">\n",
    ">Salida: Si la lista tiene a elemento, retornar la lista sin este\n",
    ">\n",
    ">Restricciones:\n",
    ">\n",
    ">               La lista debe ser una lista valida no vacia"
   ]
  },
  {
   "cell_type": "code",
   "execution_count": 26,
   "metadata": {},
   "outputs": [
    {
     "data": {
      "text/plain": [
       "[1, 3, 'ad']"
      ]
     },
     "execution_count": 26,
     "metadata": {},
     "output_type": "execute_result"
    }
   ],
   "source": [
    "def eliminarElemento(lista, elemento):\n",
    "    if not isinstance(lista, list) or lista == []:\n",
    "        return \"Error: La lista no es una lista valida\"\n",
    "    \n",
    "    nuevaLista = []\n",
    "    encontrado = False\n",
    "    for i in lista:\n",
    "        if (i == elemento):\n",
    "            encontrado = True\n",
    "        elif (i != elemento):\n",
    "            nuevaLista += [i]\n",
    "\n",
    "    if encontrado == False:\n",
    "        return \"Elemento no encontrado\"\n",
    "    \n",
    "    return nuevaLista\n",
    "\n",
    "eliminarElemento([1, 3, \"abc\", \"ad\"], \"abc\")"
   ]
  },
  {
   "cell_type": "markdown",
   "metadata": {},
   "source": [
    ">Nombre: convertirNumALista\n",
    ">\n",
    ">Entrada: num\n",
    ">\n",
    ">Salida: una lista con todos los digitos de num\n",
    ">\n",
    ">Restricciones:\n",
    ">\n",
    ">               num debe ser entero positivo"
   ]
  },
  {
   "cell_type": "code",
   "execution_count": 29,
   "metadata": {},
   "outputs": [
    {
     "data": {
      "text/plain": [
       "[1, 1, 2, 3]"
      ]
     },
     "execution_count": 29,
     "metadata": {},
     "output_type": "execute_result"
    }
   ],
   "source": [
    "def convertirNumALista(num):\n",
    "    if not isinstance(num, int) or num < 0:\n",
    "        return \"Error: num debe ser entero positivo\"\n",
    "    \n",
    "    lista = []\n",
    "    while num > 0:\n",
    "        lista = [num % 10] + lista\n",
    "        num //= 10\n",
    "    \n",
    "    return lista\n",
    "\n",
    "convertirNumALista(1123)"
   ]
  },
  {
   "cell_type": "markdown",
   "metadata": {},
   "source": [
    "## Manejo de archivos"
   ]
  },
  {
   "cell_type": "markdown",
   "metadata": {},
   "source": [
    ">Nombre: leerArchivo\n",
    ">\n",
    ">Entrada: nombreArchivo\n",
    ">\n",
    ">Salida: Retornará el contenido del archivo\n",
    ">\n",
    ">Restricciones:\n",
    ">    - El nombre del archivo debe ser String\n",
    ">\n",
    ">    - El nombre del archivo no debe ser vacio"
   ]
  },
  {
   "cell_type": "code",
   "execution_count": 31,
   "metadata": {},
   "outputs": [
    {
     "data": {
      "text/plain": [
       "'Hola soy Dylan'"
      ]
     },
     "execution_count": 31,
     "metadata": {},
     "output_type": "execute_result"
    }
   ],
   "source": [
    "import os\n",
    "\n",
    "def leerArchivo(nombreArchivo):\n",
    "    if not isinstance(nombreArchivo, str):\n",
    "        return \"Error: El tipo de parámetro no es texto\"\n",
    "    \n",
    "    if (nombreArchivo == \"\"):\n",
    "        return \"Error: El nombre del archivo no debe ser vacio\"\n",
    "\n",
    "    if not os.path.exists(nombreArchivo):\n",
    "        return f\"Error: El archivo '{nombreArchivo}' no existe\"\n",
    "\n",
    "    archivo = open (nombreArchivo, encoding = \"utf-8\", mode = \"r\")\n",
    "    contenido = archivo.read()\n",
    "    archivo.close()\n",
    "\n",
    "    return contenido\n",
    "\n",
    "\n",
    "leerArchivo(\"ArchivosLecturaEscritura/miArchivo.txt\")"
   ]
  },
  {
   "cell_type": "markdown",
   "metadata": {},
   "source": [
    ">Nombre: escribirArchivo\n",
    ">\n",
    ">Entrada: nombreArchivo, contenido y tipoEscritura\n",
    ">\n",
    ">Salida: No retorna pero agrega contenido al archivo\n",
    ">\n",
    ">Restricciones:\n",
    ">\n",
    ">    El nombre del archivo debe ser String\n",
    ">\n",
    ">    El nombre del archivo no deber ser vacio\n",
    ">\n",
    ">    El contenido debe ser String\n",
    ">\n",
    ">    tipoEscritura:\n",
    ">\n",
    ">        a = Agrega contenido al final del archivo\n",
    ">\n",
    ">        w = Sobrescribe el archivo con el nuevo contenido"
   ]
  },
  {
   "cell_type": "code",
   "execution_count": 34,
   "metadata": {},
   "outputs": [],
   "source": [
    "import os\n",
    "\n",
    "def escribirArchivo(nombreArchivo, contenido, tipoEscritura):\n",
    "    if not isinstance(nombreArchivo, str):\n",
    "        return \"Error: El tipo de parámetro no es texto\"\n",
    "    \n",
    "    if (nombreArchivo == \"\"):\n",
    "        return \"Error: El nombre del archivo no debe ser vacio\"\n",
    "\n",
    "    if not os.path.exists(nombreArchivo):\n",
    "        return f\"Error: El archivo '{nombreArchivo}' no existe\"\n",
    "\n",
    "    archivo = open (nombreArchivo, encoding = \"utf-8\", mode = tipoEscritura)\n",
    "    archivo.write(contenido)\n",
    "    archivo.close()   \n",
    "\n",
    "escribirArchivo(\"ArchivosLecturaEscritura/miArchivo.txt\", \"hola mundo\", \"w\")"
   ]
  },
  {
   "cell_type": "markdown",
   "metadata": {},
   "source": [
    "## Ejercicios Prácticos"
   ]
  },
  {
   "cell_type": "markdown",
   "metadata": {},
   "source": [
    ">Nombre: numeroPolimax\n",
    ">\n",
    ">Entrada: num\n",
    ">\n",
    ">Salida: retornar True si num es un Número Polimax, si no retornar False. Un número es Polimax si al dividir en dos el número, sus dos partes tienen la misma cantidad de impares y pares.\n",
    ">\n",
    ">Restricciones:\n",
    ">\n",
    ">              num debe ser entero"
   ]
  },
  {
   "cell_type": "code",
   "execution_count": 30,
   "metadata": {},
   "outputs": [
    {
     "name": "stdout",
     "output_type": "stream",
     "text": [
      "Itracion: 0, numero: 12445\n",
      "Itracion: 1, numero: 1244\n",
      "Itracion: 2, numero: 124\n",
      "Itracion: 3, numero: 12\n",
      "Itracion: 4, numero: 1\n"
     ]
    },
    {
     "data": {
      "text/plain": [
       "'Error: num debe tener un largo par'"
      ]
     },
     "execution_count": 30,
     "metadata": {},
     "output_type": "execute_result"
    }
   ],
   "source": [
    "def numeroPolimax(num):\n",
    "    if not isinstance(num, int):\n",
    "        return \"Error: num debe ser entero\"\n",
    "    \n",
    "    if num < 0:\n",
    "        num *= -1\n",
    "\n",
    "    digitos = contarDigitos(num)\n",
    "\n",
    "    if (digitos % 2) != 0:\n",
    "        return \"Error: num debe tener un largo par\"\n",
    "    \n",
    "    numIzquierda = int(num // 10**(digitos/2)) # 4312 == 43\n",
    "    numDerecha = int(num % 10**(digitos/2))  # 4312 == 12\n",
    "\n",
    "    cantidadParesD = 0\n",
    "    cantidadImparesD = 0\n",
    "\n",
    "    cantidadParesI = 0\n",
    "    cantidadImparesI = 0\n",
    "\n",
    "    while numIzquierda > 0 and numDerecha > 0:\n",
    "        if (numDerecha % 2) == 0:\n",
    "            cantidadParesD += 1\n",
    "        elif (numDerecha % 2) != 0:\n",
    "            cantidadImparesD += 1\n",
    "        \n",
    "        if (numIzquierda % 2) == 0:\n",
    "            cantidadParesI += 1\n",
    "        elif (numIzquierda % 2) != 0:\n",
    "            cantidadImparesI += 1\n",
    "\n",
    "        numDerecha //= 10\n",
    "        numIzquierda //= 10\n",
    "\n",
    "    if (cantidadImparesD == cantidadImparesI) and (cantidadParesD == cantidadParesI):\n",
    "        return True\n",
    "    \n",
    "    return False\n",
    "\n",
    "numeroPolimax(-12445)\n"
   ]
  },
  {
   "cell_type": "markdown",
   "metadata": {},
   "source": [
    ">Nombre: numeroHermano\n",
    ">\n",
    ">Entrada: num\n",
    ">\n",
    ">Salida: retornar si cumple (True) o no los requisitos (False)\n",
    "de número hermano. Un número hermano es un número natural y\n",
    "que posee dos divisores primos (el 1 no es primo)\n",
    ">\n",
    ">Restricciones:\n",
    ">\n",
    ">              num debe ser entero positivo\n"
   ]
  },
  {
   "cell_type": "code",
   "execution_count": 2,
   "metadata": {},
   "outputs": [
    {
     "name": "stdout",
     "output_type": "stream",
     "text": [
      "3\n",
      "5\n",
      "83\n"
     ]
    },
    {
     "data": {
      "text/plain": [
       "True"
      ]
     },
     "execution_count": 2,
     "metadata": {},
     "output_type": "execute_result"
    }
   ],
   "source": [
    "def esPrimo(num):\n",
    "    for n in range(2, num):\n",
    "        if num % n == 0:\n",
    "            return False\n",
    "    return True\n",
    "\n",
    "def numHermano(num):\n",
    "    if not isinstance(num, int) or num < 0:\n",
    "        return \"Error: num debe ser entero positivo\"\n",
    "    \n",
    "    divisoresPrimos = 0\n",
    "    for n in range(2, num):\n",
    "        if (num % n) == 0:\n",
    "            if esPrimo(n):\n",
    "                print(n)\n",
    "                divisoresPrimos += 1\n",
    "\n",
    "    if (divisoresPrimos >= 2):\n",
    "        return True\n",
    "    \n",
    "    return False\n",
    "\n",
    "numHermano(1245)\n"
   ]
  },
  {
   "cell_type": "markdown",
   "metadata": {},
   "source": [
    ">Nombre: numeroPalindromo\n",
    ">\n",
    ">Entrada: num\n",
    ">\n",
    ">Salida: retornar si cumple (True) o no los requisitos (False)\n",
    "de número palíndromo. Un palíndromo es aquel que resulta ser lo mismo\n",
    "leído de izquierda a derecha que de derecha a izquierda\n",
    ">\n",
    ">Restricciones:\n",
    ">\n",
    ">              num debe ser entero positivo"
   ]
  },
  {
   "cell_type": "code",
   "execution_count": 1,
   "metadata": {},
   "outputs": [
    {
     "data": {
      "text/plain": [
       "False"
      ]
     },
     "execution_count": 1,
     "metadata": {},
     "output_type": "execute_result"
    }
   ],
   "source": [
    "def numPalindromo(num):\n",
    "    if not isinstance(num, int) or num < 0:\n",
    "        return \"Error: num debe ser entero positivo\"\n",
    "    \n",
    "    numOriginal = num\n",
    "    numInvertido = 0\n",
    "\n",
    "    while num > 0:\n",
    "        digito = num % 10\n",
    "        numInvertido = numInvertido * 10 + digito\n",
    "        num //= 10\n",
    "\n",
    "    if (numOriginal == numInvertido):\n",
    "        return True\n",
    "    \n",
    "    return False\n",
    "\n",
    "numPalindromo(2102)\n"
   ]
  },
  {
   "cell_type": "markdown",
   "metadata": {},
   "source": [
    "## Vectores"
   ]
  },
  {
   "cell_type": "code",
   "execution_count": 4,
   "metadata": {},
   "outputs": [
    {
     "data": {
      "text/plain": [
       "'Error: La lista ingresada no es un vector válido'"
      ]
     },
     "execution_count": 4,
     "metadata": {},
     "output_type": "execute_result"
    }
   ],
   "source": [
    "def sumaVector(vector):\n",
    "    resultado = 0\n",
    "    for elemento in vector:\n",
    "        if not isinstance(elemento,int):\n",
    "            return \"Error: La lista ingresada no es un vector válido\"\n",
    "        resultado += elemento\n",
    "    return resultado\n",
    "\n",
    "sumaVector([1,4,5,2,3])"
   ]
  },
  {
   "cell_type": "code",
   "execution_count": 5,
   "metadata": {},
   "outputs": [
    {
     "data": {
      "text/plain": [
       "5"
      ]
     },
     "execution_count": 5,
     "metadata": {},
     "output_type": "execute_result"
    }
   ],
   "source": [
    "def largoLista(lista):\n",
    "    contador = 0\n",
    "    for _ in lista:\n",
    "        contador += 1\n",
    "    return contador"
   ]
  },
  {
   "cell_type": "code",
   "execution_count": 13,
   "metadata": {},
   "outputs": [
    {
     "data": {
      "text/plain": [
       "'Error: Los vectores ingredados no tienen el mismo largo'"
      ]
     },
     "execution_count": 13,
     "metadata": {},
     "output_type": "execute_result"
    }
   ],
   "source": [
    "def sumaVectores(vector1, vector2):\n",
    "    if largoLista(vector1) != largoLista(vector2):\n",
    "        return \"Error: Los vectores ingredados no tienen el mismo largo\"\n",
    "    \n",
    "    suma = []\n",
    "    for i in range(largoLista(vector1)):\n",
    "        if not isinstance(i,int):\n",
    "            return \"Error: La lista ingresada no es un vector válido\"\n",
    "        \n",
    "        suma += [vector1[i] + vector2[i]]\n",
    "    \n",
    "    return suma\n",
    "\n",
    "vector1 = [1, 4, 6]\n",
    "vector2 = [2, 5, 7]\n",
    "sumaVectores(vector1, vector2)"
   ]
  },
  {
   "cell_type": "code",
   "execution_count": 16,
   "metadata": {},
   "outputs": [
    {
     "data": {
      "text/plain": [
       "[1, 3, 7, 9, 5]"
      ]
     },
     "execution_count": 16,
     "metadata": {},
     "output_type": "execute_result"
    }
   ],
   "source": [
    "def unionNoRepetidos(vector1, vector2):\n",
    "    union = []\n",
    "\n",
    "    for elemento in vector1:\n",
    "        agregado = False\n",
    "        for elem in union:\n",
    "            if elem == elemento:\n",
    "                agregado = True\n",
    "                break\n",
    "        if not agregado:\n",
    "            union += [elemento]\n",
    "\n",
    "\n",
    "    for elemento in vector2:\n",
    "        agregado = False\n",
    "        for elem in union:\n",
    "            if elem == elemento:\n",
    "                agregado = True\n",
    "                break\n",
    "        if not agregado:\n",
    "            union += [elemento]\n",
    "\n",
    "    return union\n",
    "\n",
    "vector1 = [1, 3, 7, 9]\n",
    "vector2 = [1, 5, 3]\n",
    "unionNoRepetidos(vector1, vector2)\n",
    "\n"
   ]
  }
 ],
 "metadata": {
  "kernelspec": {
   "display_name": "Python 3",
   "language": "python",
   "name": "python3"
  },
  "language_info": {
   "codemirror_mode": {
    "name": "ipython",
    "version": 3
   },
   "file_extension": ".py",
   "mimetype": "text/x-python",
   "name": "python",
   "nbconvert_exporter": "python",
   "pygments_lexer": "ipython3",
   "version": "3.12.2"
  }
 },
 "nbformat": 4,
 "nbformat_minor": 2
}
