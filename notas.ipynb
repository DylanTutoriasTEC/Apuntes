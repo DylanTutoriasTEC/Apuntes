{
 "cells": [
  {
   "cell_type": "markdown",
   "metadata": {},
   "source": [
    "> # Introdución a la programación"
   ]
  },
  {
   "cell_type": "markdown",
   "metadata": {},
   "source": [
    "## Operadores básicos \n"
   ]
  },
  {
   "cell_type": "markdown",
   "metadata": {},
   "source": [
    "\n",
    "(+) Realiza adición entre los operandos\n"
   ]
  },
  {
   "cell_type": "code",
   "execution_count": 1,
   "metadata": {},
   "outputs": [
    {
     "data": {
      "text/plain": [
       "5"
      ]
     },
     "execution_count": 1,
     "metadata": {},
     "output_type": "execute_result"
    }
   ],
   "source": [
    "def suma(num1, num2):\n",
    "    return num1 + num2\n",
    "\n",
    "suma(2,3)"
   ]
  },
  {
   "cell_type": "markdown",
   "metadata": {},
   "source": [
    "(-) Realiza substracción entre los operandos"
   ]
  },
  {
   "cell_type": "code",
   "execution_count": 25,
   "metadata": {},
   "outputs": [
    {
     "data": {
      "text/plain": [
       "-1"
      ]
     },
     "execution_count": 25,
     "metadata": {},
     "output_type": "execute_result"
    }
   ],
   "source": [
    "def resta(num1, num2):\n",
    "    return num1 - num2\n",
    "\n",
    "resta(2,3)"
   ]
  },
  {
   "cell_type": "markdown",
   "metadata": {},
   "source": [
    "(*) Realiza multiplicación entre los operandos\n"
   ]
  },
  {
   "cell_type": "code",
   "execution_count": 26,
   "metadata": {},
   "outputs": [
    {
     "data": {
      "text/plain": [
       "6"
      ]
     },
     "execution_count": 26,
     "metadata": {},
     "output_type": "execute_result"
    }
   ],
   "source": [
    "def multiplicacion(num1, num2):\n",
    "    return num1 * num2\n",
    "\n",
    "multiplicacion(2,3)"
   ]
  },
  {
   "cell_type": "markdown",
   "metadata": {},
   "source": [
    "(/) Realiza división entre los operandos\n"
   ]
  },
  {
   "cell_type": "code",
   "execution_count": 27,
   "metadata": {},
   "outputs": [
    {
     "data": {
      "text/plain": [
       "2.3333333333333335"
      ]
     },
     "execution_count": 27,
     "metadata": {},
     "output_type": "execute_result"
    }
   ],
   "source": [
    "def divisionRecidual(num1, num2):\n",
    "    return num1 / num2\n",
    "\n",
    "divisionRecidual(7,3)"
   ]
  },
  {
   "cell_type": "markdown",
   "metadata": {},
   "source": [
    "(%) Realiza un módulo entre los operandos\n"
   ]
  },
  {
   "cell_type": "code",
   "execution_count": 11,
   "metadata": {},
   "outputs": [
    {
     "data": {
      "text/plain": [
       "3"
      ]
     },
     "execution_count": 11,
     "metadata": {},
     "output_type": "execute_result"
    }
   ],
   "source": [
    "def modulo(num1, num2):\n",
    "    return num1 % num2\n",
    "\n",
    "modulo(1123,10)"
   ]
  },
  {
   "cell_type": "markdown",
   "metadata": {},
   "source": [
    "(**) Realiza la potencia de los operandos\n"
   ]
  },
  {
   "cell_type": "code",
   "execution_count": 12,
   "metadata": {},
   "outputs": [
    {
     "data": {
      "text/plain": [
       "8"
      ]
     },
     "execution_count": 12,
     "metadata": {},
     "output_type": "execute_result"
    }
   ],
   "source": [
    "def potencia(num1, num2):\n",
    "    return num1 ** num2\n",
    "\n",
    "potencia(2,3)"
   ]
  },
  {
   "cell_type": "markdown",
   "metadata": {},
   "source": [
    "\n",
    "(//) Realiza la división con resultado de número entero"
   ]
  },
  {
   "cell_type": "code",
   "execution_count": 25,
   "metadata": {},
   "outputs": [
    {
     "data": {
      "text/plain": [
       "71"
      ]
     },
     "execution_count": 25,
     "metadata": {},
     "output_type": "execute_result"
    }
   ],
   "source": [
    "def divisionEntera(num1, num2):\n",
    "    return num1 // num2\n",
    "\n",
    "divisionEntera(712,10)"
   ]
  },
  {
   "cell_type": "markdown",
   "metadata": {},
   "source": [
    "## Operadores de control de flujo"
   ]
  },
  {
   "cell_type": "markdown",
   "metadata": {},
   "source": [
    "Los operadores **if**, **else** y **elif** son sentencias condicionales que permiten que un programa ejecute código si se cumplen las condiciones."
   ]
  },
  {
   "cell_type": "code",
   "execution_count": null,
   "metadata": {},
   "outputs": [],
   "source": [
    "edad = 20\n",
    "\n",
    "# Comprobamos en qué rango de edad se encuentra una persona\n",
    "if (edad < 18):\n",
    "    print(\"Es menor de edad.\")\n",
    "\n",
    "elif edad >= 18 and edad < 65:\n",
    "    print(\"Es adulto.\")\n",
    "    \n",
    "else:\n",
    "    print(\"Eres adulto mayor.\")"
   ]
  },
  {
   "cell_type": "markdown",
   "metadata": {},
   "source": [
    "## Bucle While"
   ]
  },
  {
   "cell_type": "markdown",
   "metadata": {},
   "source": [
    "El bucle **while** se utiliza para ejecutar un bloque de código mientras una condición específica sea verdadera."
   ]
  },
  {
   "cell_type": "code",
   "execution_count": 19,
   "metadata": {},
   "outputs": [
    {
     "name": "stdout",
     "output_type": "stream",
     "text": [
      "El contador es: 0\n",
      "El contador es: 1\n",
      "El contador es: 2\n",
      "El contador es: 3\n",
      "El contador es: 4\n",
      "Bucle terminado\n"
     ]
    }
   ],
   "source": [
    "contador = 0\n",
    "\n",
    "# Ejecutamos un bucle while mientras el contador sea menor que 5\n",
    "while contador < 5:\n",
    "    print(\"El contador es:\", contador)\n",
    "    contador += 1  # Incrementamos el contador en 1 en cada iteración\n",
    "\n",
    "print(\"Bucle terminado\")"
   ]
  },
  {
   "cell_type": "markdown",
   "metadata": {},
   "source": [
    "## Ejercicios Prácticos"
   ]
  },
  {
   "cell_type": "markdown",
   "metadata": {},
   "source": [
    ">Nombre: contarDigitos \n",
    ">\n",
    ">Descripción: Contar la cantidad de digitos de un número entero\n",
    ">\n",
    ">Entradas: num\n",
    ">\n",
    ">Salida: La cantidad de digitos de un número \n",
    ">\n",
    ">Restricciones:\n",
    ">\n",
    ">          - num debe ser entero"
   ]
  },
  {
   "cell_type": "code",
   "execution_count": 12,
   "metadata": {},
   "outputs": [],
   "source": [
    "def contarDigitos(num):\n",
    "    contador = 0\n",
    "    \n",
    "    if (num%1) != 0:\n",
    "        return \"Error: num debe ser entero\"\n",
    "    \n",
    "    while (num > 0):\n",
    "        num //= 10       \n",
    "        contador += 1\n",
    "    return contador"
   ]
  },
  {
   "cell_type": "markdown",
   "metadata": {},
   "source": [
    ">Nombre: contarParesImpares\n",
    ">\n",
    ">Descripción: Contar la cantidad de digitos pares e impares de un número entero\n",
    ">\n",
    ">Entradas: num\n",
    ">\n",
    ">Salida: Una lista con la cantidad de digitos pares e impares. [pares, impares]\n",
    ">\n",
    ">Restricciones:\n",
    ">\n",
    ">          - num debe ser entero"
   ]
  },
  {
   "cell_type": "code",
   "execution_count": 3,
   "metadata": {},
   "outputs": [
    {
     "data": {
      "text/plain": [
       "[1, 2]"
      ]
     },
     "execution_count": 3,
     "metadata": {},
     "output_type": "execute_result"
    }
   ],
   "source": [
    "def contarParesImpares(num):\n",
    "    if (num % 1)!= 0 :\n",
    "        return \"El número debe ser entero\"\n",
    "\n",
    "    contadorPar = 0\n",
    "    contadorImpar = 0\n",
    "\n",
    "    digito = 0\n",
    "    while (num > 0):\n",
    "        digito = num % 10\n",
    "        if (digito % 2) == 0:\n",
    "            contadorPar += 1\n",
    "        else:\n",
    "            contadorImpar +=1\n",
    "        num //= 10\n",
    "\n",
    "    return [contadorPar, contadorImpar]\n",
    "\n",
    "contarParesImpares(123)            "
   ]
  },
  {
   "cell_type": "markdown",
   "metadata": {},
   "source": [
    ">Nombre: sumatoria \n",
    ">\n",
    ">Descripción: Hacer la sumatoria de un número dado\n",
    ">\n",
    ">Entradas: num\n",
    ">\n",
    ">Salida: La sumatoria de num\n",
    ">\n",
    ">Restricciones:\n",
    ">\n",
    ">          - num debe ser entero"
   ]
  },
  {
   "cell_type": "code",
   "execution_count": 35,
   "metadata": {},
   "outputs": [
    {
     "data": {
      "text/plain": [
       "6"
      ]
     },
     "execution_count": 35,
     "metadata": {},
     "output_type": "execute_result"
    }
   ],
   "source": [
    "def sumatoriaDes(num):\n",
    "    if (num % 1)!= 0 :\n",
    "        return \"El número debe ser entero\"\n",
    "        \n",
    "    resultado = 0\n",
    "    while (num > 0):\n",
    "        num -= 1\n",
    "        resultado += num\n",
    "    return resultado\n",
    "\n",
    "sumatoriaDes(4)"
   ]
  },
  {
   "cell_type": "code",
   "execution_count": 32,
   "metadata": {},
   "outputs": [
    {
     "name": "stdout",
     "output_type": "stream",
     "text": [
      "0\n",
      "1\n"
     ]
    },
    {
     "data": {
      "text/plain": [
       "3"
      ]
     },
     "execution_count": 32,
     "metadata": {},
     "output_type": "execute_result"
    }
   ],
   "source": [
    "def sumatoriaAscendente(num):\n",
    "    if (num % 1)!= 0 :\n",
    "        return \"El número debe ser entero\"\n",
    "       \n",
    "    resultado = 0\n",
    "    contador = 0\n",
    "\n",
    "    while resultado + (contador + 1) <= num: \n",
    "        contador += 1\n",
    "        resultado += contador\n",
    "\n",
    "    return resultado\n",
    "\n",
    "sumatoriaAscendente(3)"
   ]
  },
  {
   "cell_type": "markdown",
   "metadata": {},
   "source": [
    ">Nombre: factorial \n",
    ">\n",
    ">Descripción: Hacer la factoral de un número dado\n",
    ">\n",
    ">Entradas: num\n",
    ">\n",
    ">Salida: La factorial de num\n",
    ">\n",
    ">Restricciones:\n",
    ">\n",
    ">          - num debe ser entero"
   ]
  },
  {
   "cell_type": "code",
   "execution_count": 5,
   "metadata": {},
   "outputs": [
    {
     "data": {
      "text/plain": [
       "120"
      ]
     },
     "execution_count": 5,
     "metadata": {},
     "output_type": "execute_result"
    }
   ],
   "source": [
    "def factorial(num):\n",
    "    if (num % 1)!= 0 :\n",
    "        return \"El número debe ser entero\"\n",
    "        \n",
    "    resultado = 1\n",
    "    while (num > 0):\n",
    "        resultado *= num\n",
    "        num -= 1\n",
    "    return resultado\n",
    "\n",
    "factorial(5)"
   ]
  },
  {
   "cell_type": "markdown",
   "metadata": {},
   "source": [
    ">Nombre: adyacentesImpares\n",
    ">\n",
    ">Entrada: num\n",
    ">\n",
    ">Salida: retornar True si la suma de dos digitos adyacentes sean impares, o\n",
    ">        False en caso de que alguna no lo sea\n",
    ">\n",
    ">Restricciones:\n",
    ">\n",
    ">              ° num debe ser entero positivo"
   ]
  },
  {
   "cell_type": "code",
   "execution_count": 4,
   "metadata": {},
   "outputs": [
    {
     "name": "stdout",
     "output_type": "stream",
     "text": [
      "[4, 5]\n",
      "True\n",
      "[3, 4]\n",
      "True\n",
      "[1, 3]\n",
      "False\n",
      "[1, 1]\n",
      "False\n",
      "[3, 1]\n",
      "False\n",
      "[2, 3]\n",
      "True\n",
      "[1, 2]\n",
      "True\n",
      "[0, 1]\n",
      "True\n"
     ]
    }
   ],
   "source": [
    "def adyacentesImpares(num):\n",
    "    if not isinstance(num,int) or num < 0:\n",
    "        return \"Error: num debe ser entero positivo\"\n",
    "    \n",
    "    digitoDerecha = num % 10\n",
    "    while num > 0:\n",
    "        num //= 10\n",
    "        digitoIzqierda = num % 10\n",
    "        if (digitoDerecha + digitoIzqierda) % 2 == 0:\n",
    "            print([digitoIzqierda, digitoDerecha])\n",
    "            print(False)\n",
    "        else:\n",
    "            print([digitoIzqierda, digitoDerecha])\n",
    "            print(True) \n",
    "        digitoDerecha = digitoIzqierda\n",
    "\n",
    "\n",
    "adyacentesImpares(12311345)"
   ]
  },
  {
   "cell_type": "markdown",
   "metadata": {},
   "source": [
    "## Listas"
   ]
  },
  {
   "cell_type": "markdown",
   "metadata": {},
   "source": [
    "\n",
    "En Python, una lista es una estructura de datos que permite almacenar una colección ordenada de elementos. Las listas son muy versátiles y flexibles, ya que pueden contener elementos de diferentes tipos (como enteros, flotantes, cadenas, incluso otras listas y objetos más complejos)."
   ]
  },
  {
   "cell_type": "markdown",
   "metadata": {},
   "source": [
    "## Bucle For"
   ]
  },
  {
   "cell_type": "markdown",
   "metadata": {},
   "source": [
    "En Python es una estructura que te permite iterar sobre una secuencia de elementos, como una lista, una tupla, un rango, u otro objeto iterable. La sintaxis básica de un bucle for en Python es la siguiente:"
   ]
  },
  {
   "cell_type": "code",
   "execution_count": 2,
   "metadata": {},
   "outputs": [
    {
     "name": "stdout",
     "output_type": "stream",
     "text": [
      "1\n",
      "2.34\n",
      "hola\n",
      "True\n"
     ]
    }
   ],
   "source": [
    "iterable = [1, 2.34, 'hola', True]\n",
    "for elem in iterable:\n",
    "        print(elem)"
   ]
  },
  {
   "cell_type": "markdown",
   "metadata": {},
   "source": [
    "### Ejemplos básicos"
   ]
  },
  {
   "cell_type": "code",
   "execution_count": 9,
   "metadata": {},
   "outputs": [
    {
     "name": "stdout",
     "output_type": "stream",
     "text": [
      "manzana\n",
      "banana\n",
      "naranja\n"
     ]
    }
   ],
   "source": [
    "## Iterar una lista\n",
    "\n",
    "frutas = [\"manzana\", \"banana\", \"naranja\"]\n",
    "for fruta in frutas:\n",
    "    print(fruta)"
   ]
  },
  {
   "cell_type": "code",
   "execution_count": 10,
   "metadata": {},
   "outputs": [
    {
     "name": "stdout",
     "output_type": "stream",
     "text": [
      "H\n",
      "o\n",
      "l\n",
      "a\n",
      " \n",
      "m\n",
      "u\n",
      "n\n",
      "d\n",
      "o\n"
     ]
    }
   ],
   "source": [
    "## Iterar un string\n",
    "\n",
    "mensaje = \"Hola mundo\"\n",
    "for letra in mensaje:\n",
    "    print(letra)"
   ]
  },
  {
   "cell_type": "code",
   "execution_count": 12,
   "metadata": {},
   "outputs": [
    {
     "data": {
      "text/plain": [
       "True"
      ]
     },
     "execution_count": 12,
     "metadata": {},
     "output_type": "execute_result"
    }
   ],
   "source": [
    "# Iterar un rango\n",
    "\n",
    "for numero in range(5):\n",
    "    print(numero)"
   ]
  },
  {
   "cell_type": "markdown",
   "metadata": {},
   "source": [
    "## Ejercicios Prácticos"
   ]
  },
  {
   "cell_type": "markdown",
   "metadata": {},
   "source": [
    ">Nombre: encontrarCaracter\n",
    ">\n",
    ">Entrada: texto y caracter\n",
    ">\n",
    ">Salida: lbuscar la cantidad de veces que aparece el caracter dado en el texto, si no aparece, devolver su mensaje de error corrrespomdiente\n",
    ">\n",
    ">Restricciones:\n",
    ">              \n",
    ">              - texto y caracter deben ser string"
   ]
  },
  {
   "cell_type": "code",
   "execution_count": 15,
   "metadata": {},
   "outputs": [
    {
     "data": {
      "text/plain": [
       "'El caracter o aparece 2 veces en el texto'"
      ]
     },
     "execution_count": 15,
     "metadata": {},
     "output_type": "execute_result"
    }
   ],
   "source": [
    "def encontrarCaracter(texto,caracter):\n",
    "    contador = 0\n",
    "\n",
    "    for letra in texto:\n",
    "        if (letra == caracter):\n",
    "            contador += 1\n",
    "\n",
    "    if contador == 0:\n",
    "        return \"Error: Caracter no encontrado\"\n",
    "    \n",
    "    return f\"El caracter {caracter} aparece {contador} veces en el texto\"\n",
    "\n",
    "encontrarCaracter(\"Hola mundo\",\"o\")"
   ]
  },
  {
   "cell_type": "markdown",
   "metadata": {},
   "source": [
    ">Nombre: sumarElementos\n",
    ">\n",
    ">Entrada: lista\n",
    ">\n",
    ">Salida: la suma de los elementos de la lista\n",
    ">\n",
    ">Restricciones:\n",
    ">              \n",
    ">              - Los elementos de la lista deben ser numericos enteros"
   ]
  },
  {
   "cell_type": "code",
   "execution_count": 18,
   "metadata": {},
   "outputs": [
    {
     "data": {
      "text/plain": [
       "'Error: el parametro de entrada debe ser una lista'"
      ]
     },
     "execution_count": 18,
     "metadata": {},
     "output_type": "execute_result"
    }
   ],
   "source": [
    "def sumarElementos(lista):\n",
    "    if not isinstance(lista,list):\n",
    "        return \"Error: el parametro de entrada debe ser una lista\"\n",
    "    \n",
    "    resultado = 0\n",
    "    for elemento in lista:\n",
    "        if not isinstance(elemento, int):\n",
    "            return \"Error: la lista debe tener elementos numericos enteros\"\n",
    "\n",
    "        resultado += elemento\n",
    "\n",
    "    return resultado\n",
    "\n",
    "sumarElementos(12)"
   ]
  },
  {
   "cell_type": "markdown",
   "metadata": {},
   "source": [
    ">Nombre: cortarLista\n",
    ">\n",
    ">Entrada: lista e indice\n",
    ">\n",
    ">Salida: la lista cortada\n",
    ">\n",
    ">Restricciones:\n",
    ">              \n",
    ">              - la lista debe ser una lista, y el indice no debe exceder el largo de la lista"
   ]
  },
  {
   "cell_type": "code",
   "execution_count": 29,
   "metadata": {},
   "outputs": [],
   "source": [
    "def largoLista(lista):\n",
    "    if not isinstance(lista, list) or lista == []:\n",
    "        return \"Error: La entrada debe ser una lista no vacia\"\n",
    "    \n",
    "    contador = 0\n",
    "    for _ in lista:\n",
    "        contador += 1\n",
    "\n",
    "    return contador\n",
    "\n",
    "def cortarLista(lista, indice):\n",
    "    if not isinstance(lista,list):\n",
    "        return \"Error: la lista debe ser una lista\"\n",
    "    \n",
    "    if not isinstance(indice,int):\n",
    "        return \"Error: el indice debe ser numerico\"\n",
    "    \n",
    "    if indice > largoLista(lista) - 1:\n",
    "        return \"Error: indice excede el largo de la lista\"\n",
    "\n",
    "    contador = -1\n",
    "    resultado = []\n",
    "    for elemento in lista:\n",
    "        resultado += [elemento]\n",
    "        contador += 1\n",
    "\n",
    "        if indice == contador:\n",
    "            return resultado\n",
    "        \n",
    "    cortarLista([1,2,3,5,6],1)"
   ]
  },
  {
   "cell_type": "markdown",
   "metadata": {},
   "source": [
    ">Nombre: numeroAbundante\n",
    ">\n",
    ">Entrada: num\n",
    ">\n",
    ">Salida: la suma de los divisores de num debe ser mayor al doble de num\n",
    ">\n",
    ">Restricciones:\n",
    ">              \n",
    ">              - num debe ser entero positivo"
   ]
  },
  {
   "cell_type": "code",
   "execution_count": 30,
   "metadata": {},
   "outputs": [
    {
     "name": "stdout",
     "output_type": "stream",
     "text": [
      "1\n",
      "2\n",
      "3\n",
      "4\n",
      "6\n",
      "8\n",
      "12\n",
      "24\n"
     ]
    },
    {
     "data": {
      "text/plain": [
       "True"
      ]
     },
     "execution_count": 30,
     "metadata": {},
     "output_type": "execute_result"
    }
   ],
   "source": [
    "def numeroAbundante(num):\n",
    "    if not isinstance(num,int) or num < 0:\n",
    "        return \"Error: num debe ser entero positivo\"\n",
    "        \n",
    "    dobleNum = num*2\n",
    "    sumaDivisores = 0\n",
    "    for numero in range(1,num+1):\n",
    "        if (num % numero) == 0:\n",
    "            sumaDivisores += numero\n",
    "            print(numero)\n",
    "\n",
    "    if sumaDivisores >= num*2:\n",
    "        return True\n",
    "    else:\n",
    "        return False\n",
    "\n",
    "numeroAbundante(24)"
   ]
  },
  {
   "cell_type": "markdown",
   "metadata": {},
   "source": [
    ">Nombre: largoLista\n",
    ">\n",
    ">Entrada: lista\n",
    ">\n",
    ">Salida: el largo de una lista (la cantidad de elementos de la lista)\n",
    ">\n",
    ">Restricciones:\n",
    ">              \n",
    ">              - la entrada debe ser una lista, no importa su contenido."
   ]
  },
  {
   "cell_type": "code",
   "execution_count": 2,
   "metadata": {},
   "outputs": [
    {
     "data": {
      "text/plain": [
       "5"
      ]
     },
     "execution_count": 2,
     "metadata": {},
     "output_type": "execute_result"
    }
   ],
   "source": [
    "def largoLista(lista):\n",
    "    if not isinstance(lista, list) or lista == []:\n",
    "        return \"Error: La entrada debe ser una lista no vacia\"\n",
    "    \n",
    "    contador = 0\n",
    "    for _ in lista:\n",
    "        contador += 1\n",
    "\n",
    "    return contador\n",
    "\n",
    "largoLista([1, 2, 3.1, 4, \"12\"])"
   ]
  },
  {
   "cell_type": "markdown",
   "metadata": {},
   "source": [
    ">Nombre: eliminarElemento\n",
    ">\n",
    ">Entrada: lista y elemento\n",
    ">\n",
    ">Salida: Si la lista tiene a elemento, retornar la lista sin este\n",
    ">\n",
    ">Restricciones:\n",
    ">\n",
    ">               La lista debe ser una lista valida no vacia"
   ]
  },
  {
   "cell_type": "code",
   "execution_count": 26,
   "metadata": {},
   "outputs": [
    {
     "data": {
      "text/plain": [
       "[1, 3, 'ad']"
      ]
     },
     "execution_count": 26,
     "metadata": {},
     "output_type": "execute_result"
    }
   ],
   "source": [
    "def eliminarElemento(lista, elemento):\n",
    "    if not isinstance(lista, list) or lista == []:\n",
    "        return \"Error: La lista no es una lista valida\"\n",
    "    \n",
    "    nuevaLista = []\n",
    "    encontrado = False\n",
    "    for i in lista:\n",
    "        if (i == elemento):\n",
    "            encontrado = True\n",
    "        elif (i != elemento):\n",
    "            nuevaLista += [i]\n",
    "\n",
    "    if encontrado == False:\n",
    "        return \"Elemento no encontrado\"\n",
    "    \n",
    "    return nuevaLista\n",
    "\n",
    "eliminarElemento([1, 3, \"abc\", \"ad\"], \"abc\")"
   ]
  },
  {
   "cell_type": "markdown",
   "metadata": {},
   "source": [
    ">Nombre: convertirNumALista\n",
    ">\n",
    ">Entrada: num\n",
    ">\n",
    ">Salida: una lista con todos los digitos de num\n",
    ">\n",
    ">Restricciones:\n",
    ">\n",
    ">               num debe ser entero positivo"
   ]
  },
  {
   "cell_type": "code",
   "execution_count": 29,
   "metadata": {},
   "outputs": [
    {
     "data": {
      "text/plain": [
       "[1, 1, 2, 3]"
      ]
     },
     "execution_count": 29,
     "metadata": {},
     "output_type": "execute_result"
    }
   ],
   "source": [
    "def convertirNumALista(num):\n",
    "    if not isinstance(num, int) or num < 0:\n",
    "        return \"Error: num debe ser entero positivo\"\n",
    "    \n",
    "    lista = []\n",
    "    while num > 0:\n",
    "        lista = [num % 10] + lista\n",
    "        num //= 10\n",
    "    \n",
    "    return lista\n",
    "\n",
    "convertirNumALista(1123)"
   ]
  },
  {
   "cell_type": "markdown",
   "metadata": {},
   "source": [
    "## Manejo de archivos"
   ]
  },
  {
   "cell_type": "markdown",
   "metadata": {},
   "source": [
    ">Nombre: leerArchivo\n",
    ">\n",
    ">Entrada: nombreArchivo\n",
    ">\n",
    ">Salida: Retornará el contenido del archivo\n",
    ">\n",
    ">Restricciones:\n",
    ">    - El nombre del archivo debe ser String\n",
    ">\n",
    ">    - El nombre del archivo no debe ser vacio"
   ]
  },
  {
   "cell_type": "code",
   "execution_count": 31,
   "metadata": {},
   "outputs": [
    {
     "data": {
      "text/plain": [
       "'Hola soy Dylan'"
      ]
     },
     "execution_count": 31,
     "metadata": {},
     "output_type": "execute_result"
    }
   ],
   "source": [
    "import os\n",
    "\n",
    "def leerArchivo(nombreArchivo):\n",
    "    if not isinstance(nombreArchivo, str):\n",
    "        return \"Error: El tipo de parámetro no es texto\"\n",
    "    \n",
    "    if (nombreArchivo == \"\"):\n",
    "        return \"Error: El nombre del archivo no debe ser vacio\"\n",
    "\n",
    "    if not os.path.exists(nombreArchivo):\n",
    "        return f\"Error: El archivo '{nombreArchivo}' no existe\"\n",
    "\n",
    "    archivo = open (nombreArchivo, encoding = \"utf-8\", mode = \"r\")\n",
    "    contenido = archivo.read()\n",
    "    archivo.close()\n",
    "\n",
    "    return contenido\n",
    "\n",
    "\n",
    "leerArchivo(\"ArchivosLecturaEscritura/miArchivo.txt\")"
   ]
  },
  {
   "cell_type": "markdown",
   "metadata": {},
   "source": [
    ">Nombre: escribirArchivo\n",
    ">\n",
    ">Entrada: nombreArchivo, contenido y tipoEscritura\n",
    ">\n",
    ">Salida: No retorna pero agrega contenido al archivo\n",
    ">\n",
    ">Restricciones:\n",
    ">\n",
    ">    El nombre del archivo debe ser String\n",
    ">\n",
    ">    El nombre del archivo no deber ser vacio\n",
    ">\n",
    ">    El contenido debe ser String\n",
    ">\n",
    ">    tipoEscritura:\n",
    ">\n",
    ">        a = Agrega contenido al final del archivo\n",
    ">\n",
    ">        w = Sobrescribe el archivo con el nuevo contenido"
   ]
  },
  {
   "cell_type": "code",
   "execution_count": 34,
   "metadata": {},
   "outputs": [],
   "source": [
    "import os\n",
    "\n",
    "def escribirArchivo(nombreArchivo, contenido, tipoEscritura):\n",
    "    if not isinstance(nombreArchivo, str):\n",
    "        return \"Error: El tipo de parámetro no es texto\"\n",
    "    \n",
    "    if (nombreArchivo == \"\"):\n",
    "        return \"Error: El nombre del archivo no debe ser vacio\"\n",
    "\n",
    "    if not os.path.exists(nombreArchivo):\n",
    "        return f\"Error: El archivo '{nombreArchivo}' no existe\"\n",
    "\n",
    "    archivo = open (nombreArchivo, encoding = \"utf-8\", mode = tipoEscritura)\n",
    "    archivo.write(contenido)\n",
    "    archivo.close()   \n",
    "\n",
    "escribirArchivo(\"ArchivosLecturaEscritura/miArchivo.txt\", \"hola mundo\", \"w\")"
   ]
  },
  {
   "cell_type": "markdown",
   "metadata": {},
   "source": [
    "## Ejercicios Prácticos"
   ]
  },
  {
   "cell_type": "markdown",
   "metadata": {},
   "source": [
    ">Nombre: numeroPolimax\n",
    ">\n",
    ">Entrada: num\n",
    ">\n",
    ">Salida: retornar True si num es un Número Polimax, si no retornar False. Un número es Polimax si al dividir en dos el número, sus dos partes tienen la misma cantidad de impares y pares.\n",
    ">\n",
    ">Restricciones:\n",
    ">\n",
    ">              num debe ser entero"
   ]
  },
  {
   "cell_type": "code",
   "execution_count": 30,
   "metadata": {},
   "outputs": [
    {
     "name": "stdout",
     "output_type": "stream",
     "text": [
      "Itracion: 0, numero: 12445\n",
      "Itracion: 1, numero: 1244\n",
      "Itracion: 2, numero: 124\n",
      "Itracion: 3, numero: 12\n",
      "Itracion: 4, numero: 1\n"
     ]
    },
    {
     "data": {
      "text/plain": [
       "'Error: num debe tener un largo par'"
      ]
     },
     "execution_count": 30,
     "metadata": {},
     "output_type": "execute_result"
    }
   ],
   "source": [
    "def numeroPolimax(num):\n",
    "    if not isinstance(num, int):\n",
    "        return \"Error: num debe ser entero\"\n",
    "    \n",
    "    if num < 0:\n",
    "        num *= -1\n",
    "\n",
    "    digitos = contarDigitos(num)\n",
    "\n",
    "    if (digitos % 2) != 0:\n",
    "        return \"Error: num debe tener un largo par\"\n",
    "    \n",
    "    numIzquierda = int(num // 10**(digitos/2)) # 4312 == 43\n",
    "    numDerecha = int(num % 10**(digitos/2))  # 4312 == 12\n",
    "\n",
    "    cantidadParesD = 0\n",
    "    cantidadImparesD = 0\n",
    "\n",
    "    cantidadParesI = 0\n",
    "    cantidadImparesI = 0\n",
    "\n",
    "    while numIzquierda > 0 and numDerecha > 0:\n",
    "        if (numDerecha % 2) == 0:\n",
    "            cantidadParesD += 1\n",
    "        elif (numDerecha % 2) != 0:\n",
    "            cantidadImparesD += 1\n",
    "        \n",
    "        if (numIzquierda % 2) == 0:\n",
    "            cantidadParesI += 1\n",
    "        elif (numIzquierda % 2) != 0:\n",
    "            cantidadImparesI += 1\n",
    "\n",
    "        numDerecha //= 10\n",
    "        numIzquierda //= 10\n",
    "\n",
    "    if (cantidadImparesD == cantidadImparesI) and (cantidadParesD == cantidadParesI):\n",
    "        return True\n",
    "    \n",
    "    return False\n",
    "\n",
    "numeroPolimax(-12445)\n"
   ]
  },
  {
   "cell_type": "markdown",
   "metadata": {},
   "source": [
    ">Nombre: numeroHermano\n",
    ">\n",
    ">Entrada: num\n",
    ">\n",
    ">Salida: retornar si cumple (True) o no los requisitos (False)\n",
    "de número hermano. Un número hermano es un número natural y\n",
    "que posee dos divisores primos (el 1 no es primo)\n",
    ">\n",
    ">Restricciones:\n",
    ">\n",
    ">              num debe ser entero positivo\n"
   ]
  },
  {
   "cell_type": "code",
   "execution_count": 2,
   "metadata": {},
   "outputs": [
    {
     "name": "stdout",
     "output_type": "stream",
     "text": [
      "3\n",
      "5\n",
      "83\n"
     ]
    },
    {
     "data": {
      "text/plain": [
       "True"
      ]
     },
     "execution_count": 2,
     "metadata": {},
     "output_type": "execute_result"
    }
   ],
   "source": [
    "def esPrimo(num):\n",
    "    for n in range(2, num):\n",
    "        if num % n == 0:\n",
    "            return False\n",
    "    return True\n",
    "\n",
    "def numHermano(num):\n",
    "    if not isinstance(num, int) or num < 0:\n",
    "        return \"Error: num debe ser entero positivo\"\n",
    "    \n",
    "    divisoresPrimos = 0\n",
    "    for n in range(2, num):\n",
    "        if (num % n) == 0:\n",
    "            if esPrimo(n):\n",
    "                print(n)\n",
    "                divisoresPrimos += 1\n",
    "\n",
    "    if (divisoresPrimos >= 2):\n",
    "        return True\n",
    "    \n",
    "    return False\n",
    "\n",
    "numHermano(1245)\n"
   ]
  },
  {
   "cell_type": "markdown",
   "metadata": {},
   "source": [
    ">Nombre: numeroPalindromo\n",
    ">\n",
    ">Entrada: num\n",
    ">\n",
    ">Salida: retornar si cumple (True) o no los requisitos (False)\n",
    "de número palíndromo. Un palíndromo es aquel que resulta ser lo mismo\n",
    "leído de izquierda a derecha que de derecha a izquierda\n",
    ">\n",
    ">Restricciones:\n",
    ">\n",
    ">              num debe ser entero positivo"
   ]
  },
  {
   "cell_type": "code",
   "execution_count": 1,
   "metadata": {},
   "outputs": [
    {
     "data": {
      "text/plain": [
       "False"
      ]
     },
     "execution_count": 1,
     "metadata": {},
     "output_type": "execute_result"
    }
   ],
   "source": [
    "def numPalindromo(num):\n",
    "    if not isinstance(num, int) or num < 0:\n",
    "        return \"Error: num debe ser entero positivo\"\n",
    "    \n",
    "    numOriginal = num\n",
    "    numInvertido = 0\n",
    "\n",
    "    while num > 0:\n",
    "        digito = num % 10\n",
    "        numInvertido = numInvertido * 10 + digito\n",
    "        num //= 10\n",
    "\n",
    "    if (numOriginal == numInvertido):\n",
    "        return True\n",
    "    \n",
    "    return False\n",
    "\n",
    "numPalindromo(2102)\n"
   ]
  },
  {
   "cell_type": "markdown",
   "metadata": {},
   "source": [
    "## Semana 8"
   ]
  },
  {
   "cell_type": "markdown",
   "metadata": {},
   "source": [
    "Ejercicios introducctorios a vectores"
   ]
  },
  {
   "cell_type": "code",
   "execution_count": 4,
   "metadata": {},
   "outputs": [
    {
     "data": {
      "text/plain": [
       "'Error: La lista ingresada no es un vector válido'"
      ]
     },
     "execution_count": 4,
     "metadata": {},
     "output_type": "execute_result"
    }
   ],
   "source": [
    "def sumaVector(vector):\n",
    "    resultado = 0\n",
    "    for elemento in vector:\n",
    "        if not isinstance(elemento,int):\n",
    "            return \"Error: La lista ingresada no es un vector válido\"\n",
    "        resultado += elemento\n",
    "    return resultado\n",
    "\n",
    "sumaVector([1,4,5,2,3])"
   ]
  },
  {
   "cell_type": "code",
   "execution_count": 2,
   "metadata": {},
   "outputs": [],
   "source": [
    "def largoLista(lista):\n",
    "    contador = 0\n",
    "    for _ in lista:\n",
    "        contador += 1\n",
    "    return contador"
   ]
  },
  {
   "cell_type": "code",
   "execution_count": 13,
   "metadata": {},
   "outputs": [
    {
     "data": {
      "text/plain": [
       "'Error: Los vectores ingredados no tienen el mismo largo'"
      ]
     },
     "execution_count": 13,
     "metadata": {},
     "output_type": "execute_result"
    }
   ],
   "source": [
    "def sumaVectores(vector1, vector2):\n",
    "    if largoLista(vector1) != largoLista(vector2):\n",
    "        return \"Error: Los vectores ingredados no tienen el mismo largo\"\n",
    "    \n",
    "    suma = []\n",
    "    for i in range(largoLista(vector1)):\n",
    "        if not isinstance(i,int):\n",
    "            return \"Error: La lista ingresada no es un vector válido\"\n",
    "        \n",
    "        suma += [vector1[i] + vector2[i]]\n",
    "    \n",
    "    return suma\n",
    "\n",
    "vector1 = [1, 4, 6]\n",
    "vector2 = [2, 5, 7]\n",
    "sumaVectores(vector1, vector2)"
   ]
  },
  {
   "cell_type": "code",
   "execution_count": 16,
   "metadata": {},
   "outputs": [
    {
     "data": {
      "text/plain": [
       "[1, 3, 7, 9, 5]"
      ]
     },
     "execution_count": 16,
     "metadata": {},
     "output_type": "execute_result"
    }
   ],
   "source": [
    "def unionNoRepetidos(vector1, vector2):\n",
    "    union = []\n",
    "\n",
    "    for elemento in vector1:\n",
    "        agregado = False\n",
    "        for elem in union:\n",
    "            if elem == elemento:\n",
    "                agregado = True\n",
    "                break\n",
    "        if not agregado:\n",
    "            union += [elemento]\n",
    "\n",
    "\n",
    "    for elemento in vector2:\n",
    "        agregado = False\n",
    "        for elem in union:\n",
    "            if elem == elemento:\n",
    "                agregado = True\n",
    "                break\n",
    "        if not agregado:\n",
    "            union += [elemento]\n",
    "\n",
    "    return union\n",
    "\n",
    "vector1 = [1, 3, 7, 9]\n",
    "vector2 = [1, 5, 3]\n",
    "unionNoRepetidos(vector1, vector2)\n",
    "\n"
   ]
  },
  {
   "cell_type": "markdown",
   "metadata": {},
   "source": [
    "## Semana 9"
   ]
  },
  {
   "cell_type": "markdown",
   "metadata": {},
   "source": [
    "Continuación con los ejercicios de práctica para el manejo de vectores"
   ]
  },
  {
   "cell_type": "markdown",
   "metadata": {},
   "source": [
    ">Nombre: manzanasYCajas\n",
    ">\n",
    ">Entrada: una lista con distintas cantidades de manzanas, una lista con las capacidad maxima para cada caja.\n",
    ">\n",
    ">Salida: la cantidad minima de cajas para empaquetar las manzanas.\n",
    ">\n",
    ">Restricciones:\n",
    ">\n",
    ">              Ambas listas deben contener elementos númericos enteros.\n",
    "\n",
    "Ejemplo:\n",
    "\n",
    "```python\n",
    ">>>manzanasYCajas([2, 1, 4, 3], [5, 1, 8])\n",
    "2\n",
    "\n",
    ">>> manzanasYCajas([5, 3], [4, 12, 8])\n",
    "1\n",
    "\n",
    ">>> manzanasYCajas([], [2, 6, 12])\n",
    "\"Error: La lista con manzanas debe contener al menos un elemento\"\n",
    "\n",
    ">>> manzanasYCajas([2, 5, 7], [13, 5, \"ABC\"])\n",
    "\"Error: La lista con cajas debe contener elementos númericos enteros\"\n",
    "```"
   ]
  },
  {
   "cell_type": "code",
   "execution_count": 9,
   "metadata": {},
   "outputs": [
    {
     "name": "stdout",
     "output_type": "stream",
     "text": [
      "28\n",
      "[8, 5, 1]\n"
     ]
    },
    {
     "data": {
      "text/plain": [
       "'Cajas utilizadas: 3, Manzanas sobrantes: 14'"
      ]
     },
     "execution_count": 9,
     "metadata": {},
     "output_type": "execute_result"
    }
   ],
   "source": [
    "def manzanasYCajas(manzanas, cajas):\n",
    "    totalManzanas = 0\n",
    "    for manzana in manzanas:\n",
    "        totalManzanas += manzana\n",
    "\n",
    "    for i in range(largoLista(cajas)):\n",
    "        for j in range(i + 1, largoLista(cajas)):\n",
    "            if cajas[i] < cajas[j]:\n",
    "                temp = cajas[i]\n",
    "                cajas[i] = cajas[j]\n",
    "                cajas[j] = temp\n",
    "                #cajas[i], cajas[j] = cajas[j], cajas[i]\n",
    "    \n",
    "    print(totalManzanas)\n",
    "    print(cajas)\n",
    "    contador = 0\n",
    "    for caja in cajas:\n",
    "        totalManzanas -= caja\n",
    "        contador += 1\n",
    "        if totalManzanas <= 0:\n",
    "            return contador\n",
    "        \n",
    "    return  f\"Cajas utilizadas: {contador}, Manzanas sobrantes: {totalManzanas}\" \n",
    "\n",
    "\n",
    "manzanasYCajas([5, 3, 20], [5, 1, 8])"
   ]
  },
  {
   "cell_type": "markdown",
   "metadata": {},
   "source": [
    ">Nombre: extremosVector\n",
    ">\n",
    ">Entrada: lista\n",
    ">\n",
    ">Salida: retornar los números menor y mayor del vector dado\n",
    ">\n",
    ">Restricciones:\n",
    ">\n",
    ">              La lista debe ser un vector válido.\n",
    "\n",
    "Ejemplo:\n",
    "\n",
    "```python\n",
    ">>> extremosVector([18,5,8,45,96,60])\n",
    "[5,96]\n",
    "\n",
    ">>> extremosVector([96, 96,96])\n",
    "[96]\n",
    "\n",
    ">>> extremosVector([])\n",
    "\"Error: La lista debe contener al menos 2 elementos\"\n",
    "\n",
    ">>> extremosVector([2,5,7,\"ABC\"])\n",
    "\"Error: La lista debe elementos tipo entero\"\n",
    "```"
   ]
  },
  {
   "cell_type": "code",
   "execution_count": 27,
   "metadata": {},
   "outputs": [
    {
     "data": {
      "text/plain": [
       "[5, 96]"
      ]
     },
     "execution_count": 27,
     "metadata": {},
     "output_type": "execute_result"
    }
   ],
   "source": [
    "def extremosVector(vector):\n",
    "    # Validar que la lista sea un vector valido\n",
    "    contador = 0\n",
    "    for elemento in vector:\n",
    "        if not (isinstance(elemento,int) or isinstance(elemento,float)):\n",
    "            return \"Error: el vector ingresado no es válido\"\n",
    "        contador += 1\n",
    "    \n",
    "    if contador < 2:\n",
    "        return \"Error: el vector ingresado debe tener al menos 2 elementos\"\n",
    "    \n",
    "    numMenor = vector[0]\n",
    "    numMayor = vector[0]\n",
    "    for elemento in vector:\n",
    "        if elemento < numMenor:\n",
    "            numMenor = elemento\n",
    "        elif elemento > numMayor:\n",
    "            numMayor = elemento\n",
    "    \n",
    "    if numMenor == numMayor:\n",
    "        return [numMayor]\n",
    "    \n",
    "    return [numMenor, numMayor]\n",
    "\n",
    "extremosVector([18,5,8,45,96,60])"
   ]
  },
  {
   "cell_type": "markdown",
   "metadata": {},
   "source": [
    ">Nombre: eliminarElementosVector\n",
    ">\n",
    ">Entrada: vector1, vector2\n",
    ">\n",
    ">Salida: retornar un nuevo vector del vector1 sin los elementos del vector2\n",
    ">\n",
    ">Restricciones:\n",
    ">\n",
    ">              Ambos vectores deben ser vectores válidos.\n",
    "\n",
    "Ejemplo:\n",
    "\n",
    "```python\n",
    ">>> eliminarElementosVector([254, 25, 8], [25])\n",
    "[254, 8]\n",
    "\n",
    ">>> eliminarElementosVector([54, 25, 8], [25, 54])\n",
    "[8]\n",
    "\n",
    ">>> eliminarElementosVector([54, 25, 8], [21, 24])\n",
    "[54,25,8]\n",
    "\n",
    ">>> eliminarElementosVector([], [2,4])\n",
    "\"Error: vector1 debe contener al menos 1 elemento\"\n",
    "\n",
    ">>> eliminarElementosVector([23,78,9], [])\n",
    "\"Error: vector2 debe contener al menos 1 elemento\"\n",
    "\n",
    ">>> eliminarElementosVector([2,5,7,\"ABC\"], [2,8])\n",
    "\"Error: vector1 debe elementos tipo entero\"\n",
    "\n",
    ">>> eliminarElementosVector([2,5,7], [2,\"8\"])\n",
    "\"Error: vector2 debe elementos tipo entero\"\n",
    "```"
   ]
  },
  {
   "cell_type": "code",
   "execution_count": 16,
   "metadata": {},
   "outputs": [
    {
     "data": {
      "text/plain": [
       "[5, 7]"
      ]
     },
     "execution_count": 16,
     "metadata": {},
     "output_type": "execute_result"
    }
   ],
   "source": [
    "def eliminarElementosVector(vector1, vector2):\n",
    "    if vector1 == []:\n",
    "        return \"Error: vector1 debe contener al menos 1 elemento\"\n",
    "    \n",
    "    if vector2 == []:\n",
    "        return \"Error: vector2 debe contener al menos 1 elemento\"\n",
    "    \n",
    "    for elemento in vector1:\n",
    "        if not (isinstance(elemento,int) or isinstance(elemento,float)):\n",
    "            return \"Error: vector1 debe elementos tipo entero\"\n",
    "    for elemento in vector2:\n",
    "        if not (isinstance(elemento,int) or isinstance(elemento,float)):\n",
    "            return \"Error: vector2 debe elementos tipo entero\"\n",
    "    \n",
    "    nuevoVector = []\n",
    "    for elemv1 in vector1:\n",
    "        repetido = False\n",
    "        for elemv2 in vector2:\n",
    "            if elemv1 == elemv2:\n",
    "                repetido = True\n",
    "                break\n",
    "        if not repetido:\n",
    "            nuevoVector += [elemv1]\n",
    "\n",
    "    return nuevoVector\n",
    "\n",
    "eliminarElementosVector([2,5,7,8], [2,8])"
   ]
  },
  {
   "cell_type": "markdown",
   "metadata": {},
   "source": [
    "### Semana 10"
   ]
  },
  {
   "cell_type": "markdown",
   "metadata": {},
   "source": [
    ">Nombre: pivotarLista\n",
    ">\n",
    ">Entrada: lista, indice para pivotar\n",
    ">\n",
    ">Salida: retornar la lista pivotada a partir del indice dado\n",
    ">\n",
    ">Restricciones:\n",
    ">\n",
    ">              La lista debe ser una lista válida.\n",
    ">\n",
    ">              El indice debe de ser uno válido para la lista dada.\n",
    "\n",
    "Ejemplo:\n",
    "\n",
    "```python\n",
    ">>> pivotarLista([254, 25, 8, \"abc\", 12, 11], 4)\n",
    "[12, 11, 254, 25, 8, \"abc\"]\n",
    "\n",
    ">>> pivotarLista([32, \"abc\", 123, 1, 0, \"true\"], 3)\n",
    "[1, 0, \"true\", 32, \"abc\", 123]\n",
    "\n",
    ">>> pivotarLista([], 2)\n",
    "\"Error: la lista debe contener al menos 2 elemento\"\n",
    "\n",
    ">>> pivotarLista([54, 25, 8], 4)\n",
    "\"Error indice fuera del rango\"\n",
    "```"
   ]
  },
  {
   "cell_type": "code",
   "execution_count": 27,
   "metadata": {},
   "outputs": [
    {
     "data": {
      "text/plain": [
       "[12, 11, 254, 25, 8, 'abc']"
      ]
     },
     "execution_count": 27,
     "metadata": {},
     "output_type": "execute_result"
    }
   ],
   "source": [
    "def pivotarLista(lista, indice):\n",
    "    if not isinstance(lista, list):\n",
    "        return \"Error: La lista ingresada no es una lista válida\"\n",
    "    \n",
    "    largo = largoLista(lista) \n",
    "    if (largo < indice):\n",
    "        return \"Error: indice fuera del rango\"\n",
    "    \n",
    "    listaPivotada = []\n",
    "    for i in range(indice, largo):\n",
    "        listaPivotada += [lista[i]]\n",
    "    \n",
    "    for i in range(indice):\n",
    "        listaPivotada += [lista[i]]\n",
    "\n",
    "    return listaPivotada\n",
    "\n",
    "pivotarLista([254, 25, 8, \"abc\", 12, 11], 4)\n",
    "\n"
   ]
  },
  {
   "cell_type": "markdown",
   "metadata": {},
   "source": [
    ">Nombre: intercambiarPosiciones\n",
    ">\n",
    ">Entrada: lista, indice1, indice2\n",
    ">\n",
    ">Salida: retornar la lista con los elementos en el indice1 e indice2 intercambiados.\n",
    ">\n",
    ">Restricciones:\n",
    ">\n",
    ">              La lista debe ser una lista válida.\n",
    ">\n",
    ">              Los indices deben de ser válidos para la lista dada.\n",
    "\n",
    "Ejemplo:\n",
    "\n",
    "```python\n",
    ">>> intercambiarPosiciones([254, 25, 8, \"abc\", 12, 11], 4, 2)\n",
    "[254, 25, 12, \"abc\", 8, 11]\n",
    "\n",
    ">>> intercambiarPosiciones([32, \"abc\", 123, 1, 0, \"true\"], 3, 1)\n",
    "[32, 1, 123, \"abc\", 0, \"true\"]\n",
    "\n",
    ">>> intercambiarPosiciones([], 2, 4)\n",
    "\"Error: la lista debe contener al menos 2 elemento\"\n",
    "\n",
    ">>> intercambiarPosiciones([54, 25, 8], 4, 2)\n",
    "\"Error: indice1 fuera del rango\"\n",
    "```"
   ]
  },
  {
   "cell_type": "code",
   "execution_count": 12,
   "metadata": {},
   "outputs": [
    {
     "data": {
      "text/plain": [
       "[254, 25, 12, 'abc', 8, 11]"
      ]
     },
     "execution_count": 12,
     "metadata": {},
     "output_type": "execute_result"
    }
   ],
   "source": [
    "def intercambiarPosiciones(lista, indice1, indice2):\n",
    "    if not isinstance(lista, list):\n",
    "        return \"Error: La lista ingresada no es una lista válida\"\n",
    "    \n",
    "    largo = largoLista(lista) - 1\n",
    "    \n",
    "    if (largo < indice1):\n",
    "        return \"Error: indice1 fuera del rango\"\n",
    "    if (largo < indice2):\n",
    "        return \"Error: indice2 fuera del rango\"\n",
    "\n",
    "    temp = lista[indice1]\n",
    "    lista[indice1] = lista[indice2]\n",
    "    lista[indice2] = temp\n",
    "\n",
    "    return lista\n",
    "\n",
    "intercambiarPosiciones([254, 25, 8, \"abc\", 12, 11], 4, 2)\n",
    "\n"
   ]
  },
  {
   "cell_type": "markdown",
   "metadata": {},
   "source": [
    ">Nombre: subListaMayorProducto\n",
    ">\n",
    ">Entrada: vector\n",
    ">\n",
    ">Salida: retornar una lista con los elementos de mayor producto del vector\n",
    ">\n",
    ">Restricciones:\n",
    ">\n",
    ">              El vector debe ser una lista y vector válido.\n",
    ">\n",
    "\n",
    "Ejemplo:\n",
    "\n",
    "```python\n",
    ">>> subListaMayorProducto([254, 25, 8, 2, 12, 11])\n",
    "[254, 25]\n",
    "\n",
    ">>> subListaMayorProducto([3, 1, 1, 0, 4])\n",
    "[3, 1]\n",
    "\n",
    ">>> subListaMayorProducto([-3, 0, -4])\n",
    "0 ----> [-3, -4] no es una subLista válida\n",
    "\n",
    ">>> subListaMayorProducto([32, \"abc\", 123, 1, 0, \"true\"])\n",
    "\"Error: vector no válido\"\n",
    "\n",
    ">>> subListaMayorProducto([])\n",
    "\"Error: la lista debe contener al menos 2 elemento\"\n",
    "\n",
    "```"
   ]
  },
  {
   "cell_type": "code",
   "execution_count": 3,
   "metadata": {},
   "outputs": [
    {
     "name": "stdout",
     "output_type": "stream",
     "text": [
      "producto: 6350 -> i: 254, i: 25\n",
      "producto: 200 -> i: 25, i: 8\n",
      "producto: 16 -> i: 8, i: 2\n",
      "producto: 24 -> i: 2, i: 12\n",
      "producto: 132 -> i: 12, i: 11\n",
      "[254, 25]\n"
     ]
    }
   ],
   "source": [
    "def subListaMayorProducto(vector):\n",
    "    if not isinstance(vector, list):\n",
    "        return \"Error: vector no válido\"\n",
    "    \n",
    "    largo = largoLista(vector)\n",
    "\n",
    "    if largo < 2:\n",
    "        return \"Error: la lista debe contener al menos 2 elementos\"\n",
    "\n",
    "    mayorProducto = 0\n",
    "    subLista = []\n",
    "\n",
    "    # Calcular el producto de todas las combinaciones posibles de 2 elementos\n",
    "    for i in range(largo - 1):\n",
    "        if not (isinstance(vector[i], int) or isinstance(vector[i], float)) or not (isinstance(vector[i+1], int) or isinstance(vector[i+1], float)):\n",
    "            return \"Error: vector no valido\"\n",
    "        \n",
    "        producto = vector[i] * vector[i+1]\n",
    "        print(f\"producto: {producto} -> i: {vector[i]}, i: {vector[i+1]}\")\n",
    "        if producto > mayorProducto:\n",
    "            mayorProducto = producto\n",
    "            subLista = [vector[i], vector[i+1]]\n",
    "\n",
    "    if mayorProducto <= 0:\n",
    "        return 0\n",
    "    else:\n",
    "        return subLista\n",
    "\n",
    "print(subListaMayorProducto([254, 25, 8, 2, 12, 11]))\n"
   ]
  },
  {
   "cell_type": "markdown",
   "metadata": {},
   "source": [
    ">Nombre: houseRobber\n",
    ">\n",
    ">Descripción: Eres un ladrón profesional que planea robar casas a lo largo de una calle. Cada casa tiene una cierta cantidad de dinero escondido, la única restricción que te impide robar cada una de ellas es que las casas adyacentes tienen sistemas de seguridad conectados que automáticamente contactarán a la policía si dos casas adyacentes son robadas en la misma noche.\n",
    ">\n",
    ">Dado un arreglo de enteros nums que representa la cantidad de dinero de cada casa, devuelve la cantidad máxima de dinero que puedes robar esta noche sin alertar a la policía.\n",
    "\n",
    "Ejemplos:\n",
    "\n",
    "```python\n",
    ">>> houseRobber([1, 2, 3, 1])\n",
    "4\n",
    "\n",
    ">>> houseRobber([3, 1, 1, 0, 4])\n",
    "8\n",
    "\n",
    ">>> houseRobber([3, \"abc\", 12, 1, 0])\n",
    "\"Error: lista no válida\"\n",
    "\n",
    ">>> houseRobber([])\n",
    "\"Error: la lista debe contener al menos 1 elemento\"\n",
    "\n",
    "```"
   ]
  },
  {
   "cell_type": "code",
   "execution_count": null,
   "metadata": {},
   "outputs": [],
   "source": [
    "def robHouses(casas):\n",
    "    largo = len(casas)\n",
    "    print(casas)\n",
    "\n",
    "    for i in range(2, largo):\n",
    "        if i % 2 == 0:\n",
    "            casas[0] += casas[i]\n",
    "        else:\n",
    "            casas[1] += casas[i]\n",
    "\n",
    "    print(casas)\n",
    "    #if casas[0] > casas[1]:\n",
    "    #    return casas[0]\n",
    "    #return casas[1]\n",
    "\n",
    "    return max(casas[0], casas[1])\n",
    "\n",
    "robHouses([2,7,9,3,1])"
   ]
  },
  {
   "cell_type": "code",
   "execution_count": 19,
   "metadata": {},
   "outputs": [
    {
     "data": {
      "text/plain": [
       "'No se encontraron dos numeros que sumados den el objetivo'"
      ]
     },
     "execution_count": 19,
     "metadata": {},
     "output_type": "execute_result"
    }
   ],
   "source": [
    "def twoSum(nums, objetivo):\n",
    "    largo = largoLista(nums)\n",
    "\n",
    "    for i in range(largo):\n",
    "        for j in range(1, largo):\n",
    "            if i != j:\n",
    "                if (nums[i] + nums[j]) == objetivo:\n",
    "                    return [i, j]\n",
    "    \n",
    "    return \"No se encontraron dos numeros que sumados den el objetivo\"\n",
    "\n",
    "twoSum([2, 7, 11, 15], 14)"
   ]
  },
  {
   "cell_type": "markdown",
   "metadata": {},
   "source": [
    "### Matrices"
   ]
  },
  {
   "cell_type": "code",
   "execution_count": 21,
   "metadata": {},
   "outputs": [
    {
     "name": "stdout",
     "output_type": "stream",
     "text": [
      "fila: 0\n",
      "columna: 0\n",
      "columna: 1\n",
      "columna: 2\n",
      "fila: 1\n",
      "columna: 0\n",
      "columna: 1\n",
      "columna: 2\n",
      "fila: 2\n",
      "columna: 0\n",
      "columna: 1\n",
      "columna: 2\n"
     ]
    },
    {
     "data": {
      "text/plain": [
       "[[0, 1, 2], [3, 4, 5], [6, 7, 8]]"
      ]
     },
     "execution_count": 21,
     "metadata": {},
     "output_type": "execute_result"
    }
   ],
   "source": [
    "def crearMatriz(filas, columnas):\n",
    "\n",
    "    matriz = []\n",
    "    vector = []\n",
    "    elemento = 0\n",
    "\n",
    "    for i in range(filas):\n",
    "        print(f\"fila: {i}\")\n",
    "        vector = []\n",
    "        for j in range(columnas):\n",
    "            print(f\"columna: {j}\")\n",
    "            vector += [elemento]\n",
    "            elemento += 1\n",
    "        \n",
    "        matriz += [vector]\n",
    "\n",
    "    return matriz\n",
    "crearMatriz(3,3)"
   ]
  },
  {
   "cell_type": "code",
   "execution_count": null,
   "metadata": {},
   "outputs": [],
   "source": [
    "def multiplicacionMatrices(matriz1, matriz2):\n",
    "    \n",
    "    if isinstance(matriz1,list) and isinstance(matriz2,list):\n",
    "        if matriz1 != [] or matriz2 != []:\n",
    "            \n",
    "            if multiplicacionMatrices_Aux(matriz1, matriz2) == False:\n",
    "                return \"Error: La cantidad de filas de la matriz1 es distinta a la cantidad de columnas de la matriz2\"\n",
    "            \n",
    "            resultado = []\n",
    "\n",
    "            filas = largoLista(matriz1)\n",
    "            columnas = largoLista(matriz1[0])\n",
    "\n",
    "            for i in range(filas):\n",
    "                vector = []\n",
    "                for j in range(columnas+1):\n",
    "                    suma = 0\n",
    "                    for k in range(columnas):\n",
    "                        if isinstance(matriz1[i][k],(int,float)) and isinstance(matriz2[k][j],(int,float)):\n",
    "                            suma += matriz1[i][k] * matriz2[k][j]\n",
    "                        else:\n",
    "                            return \"Error: La matriz debe contener unicamente elementos numericos\"\n",
    "                    vector += [suma]\n",
    "                resultado += [vector]\n",
    "\n",
    "            return resultado\n",
    "\n",
    "\n",
    "## corregir, debe de ser columnasM1 == filasM2\n",
    "\n",
    "def multiplicacionMatrices_Aux(matriz1,matriz2):\n",
    "\n",
    "    filasM2 = 0\n",
    "    for fila in matriz2:\n",
    "        filasM2 += 1\n",
    "    \n",
    "    for i in range(filasM2):\n",
    "        columnasM1 = 0\n",
    "        for elemento in matriz1[i]:\n",
    "            columnasM1 += 1\n",
    "            \n",
    "        if filasM2 != columnasM1:\n",
    "            return False\n",
    "        \n",
    "    return True\n",
    "\n",
    "multiplicacionMatrices([[1,2,3],[5,6,7],[9,10,11]],[[4,3,2,1],[5,6,7,8],[12,11,10,9]])"
   ]
  },
  {
   "cell_type": "markdown",
   "metadata": {},
   "source": [
    "# Recursividad"
   ]
  },
  {
   "cell_type": "markdown",
   "metadata": {},
   "source": [
    "La recursividad es una técnica utilizada en programación para resolver problemas que implican la repetición de un proceso, como la búsqueda o el cálculo matemático. En lugar de una solución iterativa, la recursión utiliza funciones que se llaman a sí mismas para encontrar la solución final."
   ]
  },
  {
   "cell_type": "markdown",
   "metadata": {},
   "source": [
    "## Recursividad de Pila (Stack Recursion)\n",
    "\n",
    "En la recursividad de pila, cada llamada recursiva se agrega a la pila de llamadas activas (stack) del programa. Cada vez que se realiza una llamada recursiva, se guarda el contexto actual de la función en la pila, incluyendo los parámetros y la posición de retorno. Esto significa que se necesita memoria adicional para almacenar estos contextos de llamada hasta que la recursión alcance el caso base y comience a desenrollarse.\n",
    "\n",
    "Cuando se utiliza la recursividad de pila, cada llamada recursiva debe esperar a que se complete la llamada recursiva anterior y devuelva un valor antes de que pueda continuar. Esto puede llevar a un uso excesivo de la memoria, especialmente si la profundidad de la recursión es grande, ya que se acumulan múltiples llamadas en la pila de llamadas.\n",
    "\n",
    "\n",
    "\n",
    "```python\n",
    "def factorial_pila(n):\n",
    "    if n == 0:\n",
    "        return 1\n",
    "    else:\n",
    "        return n * factorial_pila(n - 1)\n",
    "```"
   ]
  },
  {
   "cell_type": "markdown",
   "metadata": {},
   "source": [
    "## Recursividad de Cola (Tail Recursion)\n",
    "\n",
    "En la recursividad de cola, la llamada recursiva es la última operación realizada por la función, lo que significa que no hay operaciones pendientes que realizar después de la llamada recursiva. Esto permite a los compiladores optimizar la recursividad de cola de forma que no se necesite almacenar múltiples contextos de llamada en la pila.\n",
    "\n",
    "En la recursividad de cola, el contexto actual de la función puede ser reemplazado por el contexto de la llamada recursiva, lo que evita la acumulación de llamadas en la pila. Esto se conoce como optimización de la cola (tail call optimization), que puede eliminar la necesidad de utilizar memoria adicional para cada llamada recursiva.\n",
    "\n",
    "```Python\n",
    "def factorial_cola(n, ac=1):\n",
    "    if n == 0:\n",
    "        return ac\n",
    "    else:\n",
    "        return factorial_cola(n - 1, ac * n)\n",
    "```"
   ]
  },
  {
   "cell_type": "markdown",
   "metadata": {},
   "source": [
    "## Ejercicios Prácticos"
   ]
  },
  {
   "cell_type": "markdown",
   "metadata": {},
   "source": [
    "### Sumatoria de n"
   ]
  },
  {
   "cell_type": "code",
   "execution_count": 5,
   "metadata": {},
   "outputs": [
    {
     "data": {
      "text/plain": [
       "15"
      ]
     },
     "execution_count": 5,
     "metadata": {},
     "output_type": "execute_result"
    }
   ],
   "source": [
    "def sumatoria(n, ac=0):\n",
    "    if n == 0:\n",
    "        return ac\n",
    "    else:\n",
    "        return sumatoria(n-1, ac+n)\n",
    "    \n",
    "sumatoria(5)"
   ]
  },
  {
   "cell_type": "markdown",
   "metadata": {},
   "source": [
    "### ¿Cómo obtener el total de hojas de x cantidad de libros?"
   ]
  },
  {
   "cell_type": "code",
   "execution_count": 19,
   "metadata": {},
   "outputs": [
    {
     "data": {
      "text/plain": [
       "1200"
      ]
     },
     "execution_count": 19,
     "metadata": {},
     "output_type": "execute_result"
    }
   ],
   "source": [
    "def totalHojas_iterativo(libros):\n",
    "    res = 0\n",
    "    for libro in libros:\n",
    "        res += libro\n",
    "    return res\n",
    "\n",
    "totalHojas_iterativo([100,500,400,200])"
   ]
  },
  {
   "cell_type": "code",
   "execution_count": 25,
   "metadata": {},
   "outputs": [
    {
     "data": {
      "text/plain": [
       "1200"
      ]
     },
     "execution_count": 25,
     "metadata": {},
     "output_type": "execute_result"
    }
   ],
   "source": [
    "def totalHojas_recursivoPila(libros):\n",
    "    if len(libros) == 1:\n",
    "        return libros[0]\n",
    "    \n",
    "    return libros[0] + totalHojas_recursivoPila(libros[1:])\n",
    "\n",
    "totalHojas_recursivoPila([100,500,400,200])"
   ]
  },
  {
   "cell_type": "code",
   "execution_count": 23,
   "metadata": {},
   "outputs": [
    {
     "data": {
      "text/plain": [
       "1200"
      ]
     },
     "execution_count": 23,
     "metadata": {},
     "output_type": "execute_result"
    }
   ],
   "source": [
    "def totalHojas_recursivoCola(libros, ac = 0):\n",
    "    if len(libros) == 1:\n",
    "        return ac + libros[0]\n",
    "    \n",
    "    ac += libros[0]\n",
    "    return totalHojas_recursivoCola(libros[1:], ac)\n",
    "\n",
    "totalHojas_recursivoCola([100,500,400,200])"
   ]
  },
  {
   "cell_type": "markdown",
   "metadata": {},
   "source": [
    "### Sucesión de Fibonacci"
   ]
  },
  {
   "cell_type": "code",
   "execution_count": null,
   "metadata": {},
   "outputs": [],
   "source": [
    "def fibonacci(n):\n",
    "    if n <= 0:\n",
    "        return \"Ingrese un número entero positivo para calcular el Fibonacci.\"\n",
    "    elif n == 1:\n",
    "        return 0\n",
    "    elif n == 2:\n",
    "        return 1\n",
    "    else:\n",
    "        return fibonacci(n - 1) + fibonacci(n - 2)\n",
    "\n",
    "fibonacci(50)    "
   ]
  },
  {
   "cell_type": "code",
   "execution_count": 9,
   "metadata": {},
   "outputs": [
    {
     "data": {
      "text/plain": [
       "26863810024485359386146727202142923967616609318986952340123175997617981700247881689338369654483356564191827856161443356312976673642210350324634850410377680367334151172899169723197082763985615764450078474174626"
      ]
     },
     "execution_count": 9,
     "metadata": {},
     "output_type": "execute_result"
    }
   ],
   "source": [
    "def fibonacci_memo(n, memo={}):\n",
    "    if n <= 0:\n",
    "        return \"Ingrese un número entero positivo para calcular el Fibonacci.\"\n",
    "    elif n == 1:\n",
    "        return 0\n",
    "    elif n == 2:\n",
    "        return 1\n",
    "    elif n in memo:\n",
    "        return memo[n]\n",
    "    else:\n",
    "        result = fibonacci_memo(n - 1, memo) + fibonacci_memo(n - 2, memo)\n",
    "        memo[n] = result\n",
    "        return result\n",
    "    \n",
    "fibonacci_memo(1000)"
   ]
  },
  {
   "cell_type": "markdown",
   "metadata": {},
   "source": [
    "### Potencia de un número\n",
    "\n",
    "$a^b = a * a * a * a$ ; a multiplicado b veces"
   ]
  },
  {
   "cell_type": "code",
   "execution_count": 20,
   "metadata": {},
   "outputs": [
    {
     "data": {
      "text/plain": [
       "32"
      ]
     },
     "execution_count": 20,
     "metadata": {},
     "output_type": "execute_result"
    }
   ],
   "source": [
    "def potencia(a, b, ac=1):\n",
    "    if b == 0:\n",
    "        return ac\n",
    "    else:\n",
    "        return potencia(a, b-1, ac*a)\n",
    "    \n",
    "potencia(2,5)"
   ]
  },
  {
   "cell_type": "markdown",
   "metadata": {},
   "source": [
    "### Vectores y matrices"
   ]
  },
  {
   "cell_type": "code",
   "execution_count": 11,
   "metadata": {},
   "outputs": [],
   "source": [
    "def largoLista_Recursiva(lista, ac=0):\n",
    "    if lista == []:\n",
    "        return ac\n",
    "    \n",
    "    return largoLista_Recursiva(lista[1:], ac+1)"
   ]
  },
  {
   "cell_type": "code",
   "execution_count": 13,
   "metadata": {},
   "outputs": [],
   "source": [
    "def crearMatriz_Recursiva(filas, columnas):\n",
    "    if filas == 0:\n",
    "        return []\n",
    "    else:\n",
    "\n",
    "        fila = [0] * columnas\n",
    "\n",
    "        resto_matriz = crearMatriz_Recursiva(filas - 1, columnas)\n",
    "\n",
    "        return [fila] + resto_matriz"
   ]
  },
  {
   "cell_type": "code",
   "execution_count": 15,
   "metadata": {},
   "outputs": [
    {
     "name": "stdout",
     "output_type": "stream",
     "text": [
      "[2, 2, 4]\n",
      "[6, 8, 7]\n",
      "[7, 8, 9]\n"
     ]
    }
   ],
   "source": [
    "def sumaMatrices_Recursiva_Auxiliar(m1, m2):\n",
    "    filas = largoLista_Recursiva(m1)\n",
    "    columnas = largoLista_Recursiva(m1[0])\n",
    "\n",
    "    if filas != largoLista_Recursiva(m2) or columnas != largoLista_Recursiva(m2[0]):\n",
    "        return \"Error: Las matrices deben tener el mismo tamaño\"\n",
    "    \n",
    "    resultado = crearMatriz_Recursiva(filas, columnas)\n",
    "\n",
    "    sumaMatrices_Recursiva(m1, m2, filas, columnas, 0, 0, resultado)\n",
    "\n",
    "    return m1\n",
    "\n",
    "def sumaMatrices_Recursiva(m1, m2, filas, columnas, i, j, resultado):\n",
    "    if i >= filas:\n",
    "        return m1\n",
    "    \n",
    "    if j < columnas:\n",
    "        m1[i][j] = m1[i][j] + m2[i][j]\n",
    "        sumaMatrices_Recursiva(m1, m2, filas, columnas, i, j+1, resultado)\n",
    "    else:\n",
    "        sumaMatrices_Recursiva(m1, m2, filas, columnas, i+1, 0, resultado)\n",
    "\n",
    "\n",
    "matriz1 = [[1, 2, 3],\n",
    "           [4, 5, 6],\n",
    "           [3, 3, 3]]\n",
    "\n",
    "matriz2 = [[1, 0, 1],\n",
    "           [2, 3, 1],\n",
    "           [4, 5, 6]]\n",
    "\n",
    "\n",
    "resultado = sumaMatrices_Recursiva_Auxiliar(matriz1, matriz2)\n",
    "\n",
    "for fila in resultado:\n",
    "    print(fila)\n",
    "\n"
   ]
  }
 ],
 "metadata": {
  "kernelspec": {
   "display_name": "Python 3",
   "language": "python",
   "name": "python3"
  },
  "language_info": {
   "codemirror_mode": {
    "name": "ipython",
    "version": 3
   },
   "file_extension": ".py",
   "mimetype": "text/x-python",
   "name": "python",
   "nbconvert_exporter": "python",
   "pygments_lexer": "ipython3",
   "version": "3.12.3"
  }
 },
 "nbformat": 4,
 "nbformat_minor": 2
}
