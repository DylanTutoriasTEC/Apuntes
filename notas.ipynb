{
 "cells": [
  {
   "cell_type": "markdown",
   "metadata": {},
   "source": [
    "> # Introdución a la programación"
   ]
  },
  {
   "cell_type": "markdown",
   "metadata": {},
   "source": [
    "## Operadores básicos \n"
   ]
  },
  {
   "cell_type": "markdown",
   "metadata": {},
   "source": [
    "\n",
    "(+) Realiza adición entre los operandos\n"
   ]
  },
  {
   "cell_type": "code",
   "execution_count": 24,
   "metadata": {},
   "outputs": [
    {
     "data": {
      "text/plain": [
       "5"
      ]
     },
     "execution_count": 24,
     "metadata": {},
     "output_type": "execute_result"
    }
   ],
   "source": [
    "def suma(num1, num2):\n",
    "    return num1 + num2\n",
    "\n",
    "suma(2,3)"
   ]
  },
  {
   "cell_type": "markdown",
   "metadata": {},
   "source": [
    "(-) Realiza substracción entre los operandos"
   ]
  },
  {
   "cell_type": "code",
   "execution_count": 25,
   "metadata": {},
   "outputs": [
    {
     "data": {
      "text/plain": [
       "-1"
      ]
     },
     "execution_count": 25,
     "metadata": {},
     "output_type": "execute_result"
    }
   ],
   "source": [
    "def resta(num1, num2):\n",
    "    return num1 - num2\n",
    "\n",
    "resta(2,3)"
   ]
  },
  {
   "cell_type": "markdown",
   "metadata": {},
   "source": [
    "(*) Realiza multiplicación entre los operandos\n"
   ]
  },
  {
   "cell_type": "code",
   "execution_count": 26,
   "metadata": {},
   "outputs": [
    {
     "data": {
      "text/plain": [
       "6"
      ]
     },
     "execution_count": 26,
     "metadata": {},
     "output_type": "execute_result"
    }
   ],
   "source": [
    "def multiplicacion(num1, num2):\n",
    "    return num1 * num2\n",
    "\n",
    "multiplicacion(2,3)"
   ]
  },
  {
   "cell_type": "markdown",
   "metadata": {},
   "source": [
    "(/) Realiza división entre los operandos\n"
   ]
  },
  {
   "cell_type": "code",
   "execution_count": 27,
   "metadata": {},
   "outputs": [
    {
     "data": {
      "text/plain": [
       "2.3333333333333335"
      ]
     },
     "execution_count": 27,
     "metadata": {},
     "output_type": "execute_result"
    }
   ],
   "source": [
    "def divisionRecidual(num1, num2):\n",
    "    return num1 / num2\n",
    "\n",
    "divisionRecidual(7,3)"
   ]
  },
  {
   "cell_type": "markdown",
   "metadata": {},
   "source": [
    "(%) Realiza un módulo entre los operandos\n"
   ]
  },
  {
   "cell_type": "code",
   "execution_count": 26,
   "metadata": {},
   "outputs": [
    {
     "data": {
      "text/plain": [
       "0"
      ]
     },
     "execution_count": 26,
     "metadata": {},
     "output_type": "execute_result"
    }
   ],
   "source": [
    "def modulo(num1, num2):\n",
    "    return num1 % num2\n",
    "\n",
    "modulo(12,1)"
   ]
  },
  {
   "cell_type": "markdown",
   "metadata": {},
   "source": [
    "(**) Realiza la potencia de los operandos\n"
   ]
  },
  {
   "cell_type": "code",
   "execution_count": 39,
   "metadata": {},
   "outputs": [
    {
     "data": {
      "text/plain": [
       "8"
      ]
     },
     "execution_count": 39,
     "metadata": {},
     "output_type": "execute_result"
    }
   ],
   "source": [
    "def potencia(num1, num2):\n",
    "    return num1 ** num2\n",
    "\n",
    "potencia(2,3)"
   ]
  },
  {
   "cell_type": "markdown",
   "metadata": {},
   "source": [
    "\n",
    "(//) Realiza la división con resultado de número entero"
   ]
  },
  {
   "cell_type": "code",
   "execution_count": 62,
   "metadata": {},
   "outputs": [
    {
     "data": {
      "text/plain": [
       "2"
      ]
     },
     "execution_count": 62,
     "metadata": {},
     "output_type": "execute_result"
    }
   ],
   "source": [
    "def divisionEntera(num1, num2):\n",
    "    return num1 // num2\n",
    "\n",
    "divisionEntera(7,3)"
   ]
  },
  {
   "cell_type": "markdown",
   "metadata": {},
   "source": [
    "## Operadores de control de flujo"
   ]
  },
  {
   "cell_type": "markdown",
   "metadata": {},
   "source": [
    "Los operadores **if**, **else** y **elif** son sentencias condicionales que permiten que un programa ejecute código si se cumplen las condiciones."
   ]
  },
  {
   "cell_type": "code",
   "execution_count": null,
   "metadata": {},
   "outputs": [],
   "source": [
    "edad = 20\n",
    "\n",
    "# Comprobamos en qué rango de edad se encuentra una persona\n",
    "if edad < 18:\n",
    "    print(\"Es menor de edad.\")\n",
    "\n",
    "elif edad >= 18 and edad < 65:\n",
    "    print(\"Es adulto.\")\n",
    "    \n",
    "else:\n",
    "    print(\"Eres adulto mayor.\")"
   ]
  },
  {
   "cell_type": "markdown",
   "metadata": {},
   "source": [
    "## Bucle While"
   ]
  },
  {
   "cell_type": "markdown",
   "metadata": {},
   "source": [
    "El bucle **while** se utiliza para ejecutar un bloque de código mientras una condición específica sea verdadera."
   ]
  },
  {
   "cell_type": "code",
   "execution_count": null,
   "metadata": {},
   "outputs": [],
   "source": [
    "contador = 0\n",
    "\n",
    "# Ejecutamos un bucle while mientras el contador sea menor que 5\n",
    "while contador < 5:\n",
    "    print(\"El contador es:\", contador)\n",
    "    contador += 1  # Incrementamos el contador en 1 en cada iteración\n",
    "\n",
    "print(\"Bucle terminado\")"
   ]
  },
  {
   "cell_type": "markdown",
   "metadata": {},
   "source": [
    "## Ejercicios Prácticos"
   ]
  },
  {
   "cell_type": "markdown",
   "metadata": {},
   "source": [
    ">Nombre: contarDigitos \n",
    ">\n",
    ">Descripción: Contar la cantidad de digitos de un número entero\n",
    ">\n",
    ">Entradas: num\n",
    ">\n",
    ">Salida: La cantidad de digitos de un número \n",
    ">\n",
    ">Restricciones:\n",
    ">\n",
    ">          - num debe ser entero"
   ]
  },
  {
   "cell_type": "code",
   "execution_count": 31,
   "metadata": {},
   "outputs": [
    {
     "name": "stdout",
     "output_type": "stream",
     "text": [
      "Itracion: 0, numero: 121\n",
      "Itracion: 1, numero: 12\n",
      "Itracion: 2, numero: 1\n"
     ]
    },
    {
     "data": {
      "text/plain": [
       "3"
      ]
     },
     "execution_count": 31,
     "metadata": {},
     "output_type": "execute_result"
    }
   ],
   "source": [
    "def contarDigitos(num):\n",
    "    contador = 0    \n",
    "    while (num > 0):\n",
    "        print(f\"Itracion: {contador}, numero: {num}\") \n",
    "        num //= 10       \n",
    "        contador += 1\n",
    "    return contador\n",
    "\n",
    "contarDigitos(121)"
   ]
  },
  {
   "cell_type": "markdown",
   "metadata": {},
   "source": [
    ">Nombre: contarParesImpares\n",
    ">\n",
    ">Descripción: Contar la cantidad de digitos pares e impares de un número entero\n",
    ">\n",
    ">Entradas: num\n",
    ">\n",
    ">Salida: Una lista con la cantidad de digitos pares e impares. [pares, impares]\n",
    ">\n",
    ">Restricciones:\n",
    ">\n",
    ">          - num debe ser entero"
   ]
  },
  {
   "cell_type": "code",
   "execution_count": 4,
   "metadata": {},
   "outputs": [
    {
     "data": {
      "text/plain": [
       "[3, 3]"
      ]
     },
     "execution_count": 4,
     "metadata": {},
     "output_type": "execute_result"
    }
   ],
   "source": [
    "def contarParesImpares(num):\n",
    "    contadorPar = 0\n",
    "    contadorImpar = 0\n",
    "\n",
    "    digito = 0\n",
    "    while (num > 0):\n",
    "        digito = num % 10\n",
    "        if (digito % 2) == 0:\n",
    "            contadorPar += 1\n",
    "        else:\n",
    "            contadorImpar +=1\n",
    "        num //= 10\n",
    "\n",
    "    return [contadorPar, contadorImpar]\n",
    "\n",
    "contarParesImpares(123483)            "
   ]
  },
  {
   "cell_type": "markdown",
   "metadata": {},
   "source": [
    ">Nombre: sumatoria \n",
    ">\n",
    ">Descripción: Hacer la sumatoria de un número dado\n",
    ">\n",
    ">Entradas: num\n",
    ">\n",
    ">Salida: La sumatoria de num\n",
    ">\n",
    ">Restricciones:\n",
    ">\n",
    ">          - num debe ser entero"
   ]
  },
  {
   "cell_type": "code",
   "execution_count": 19,
   "metadata": {},
   "outputs": [
    {
     "data": {
      "text/plain": [
       "21"
      ]
     },
     "execution_count": 19,
     "metadata": {},
     "output_type": "execute_result"
    }
   ],
   "source": [
    "def sumatoria(num):\n",
    "    resultado = 0\n",
    "    while (num > 0):\n",
    "        resultado += num\n",
    "        num -= 1\n",
    "    return resultado\n",
    "\n",
    "sumatoria(6)"
   ]
  },
  {
   "cell_type": "markdown",
   "metadata": {},
   "source": [
    ">Nombre: factorial \n",
    ">\n",
    ">Descripción: Hacer la factoral de un número dado\n",
    ">\n",
    ">Entradas: num\n",
    ">\n",
    ">Salida: La factorial de num\n",
    ">\n",
    ">Restricciones:\n",
    ">\n",
    ">          - num debe ser entero"
   ]
  },
  {
   "cell_type": "code",
   "execution_count": 22,
   "metadata": {},
   "outputs": [
    {
     "data": {
      "text/plain": [
       "120"
      ]
     },
     "execution_count": 22,
     "metadata": {},
     "output_type": "execute_result"
    }
   ],
   "source": [
    "def factorial(num):\n",
    "    resultado = 1\n",
    "    while (num > 0):\n",
    "        resultado *= num\n",
    "        num -= 1\n",
    "    return resultado\n",
    "\n",
    "factorial(5)"
   ]
  }
 ],
 "metadata": {
  "kernelspec": {
   "display_name": "Python 3",
   "language": "python",
   "name": "python3"
  },
  "language_info": {
   "codemirror_mode": {
    "name": "ipython",
    "version": 3
   },
   "file_extension": ".py",
   "mimetype": "text/x-python",
   "name": "python",
   "nbconvert_exporter": "python",
   "pygments_lexer": "ipython3",
   "version": "3.11.8"
  }
 },
 "nbformat": 4,
 "nbformat_minor": 2
}
